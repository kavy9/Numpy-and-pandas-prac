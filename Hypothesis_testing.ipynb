{
  "nbformat": 4,
  "nbformat_minor": 0,
  "metadata": {
    "colab": {
      "name": "Hypothesis_testing.ipynb",
      "provenance": [],
      "collapsed_sections": [],
      "authorship_tag": "ABX9TyPb+a4Q8s3t/VQ2xcqCeo5A",
      "include_colab_link": true
    },
    "kernelspec": {
      "name": "python3",
      "display_name": "Python 3"
    },
    "language_info": {
      "name": "python"
    }
  },
  "cells": [
    {
      "cell_type": "markdown",
      "metadata": {
        "id": "view-in-github",
        "colab_type": "text"
      },
      "source": [
        "<a href=\"https://colab.research.google.com/github/kavy9/Numpy-and-pandas-prac/blob/main/Hypothesis_testing.ipynb\" target=\"_parent\"><img src=\"https://colab.research.google.com/assets/colab-badge.svg\" alt=\"Open In Colab\"/></a>"
      ]
    },
    {
      "cell_type": "code",
      "metadata": {
        "id": "IF-mCT5PZt9t"
      },
      "source": [
        "chip_weigths=[193, 212, 174, 200, 195, 195, 194, 198, 181, 203]\n",
        "ball_bearing=[2.99,2.99,2.70,2.92,2.88,2.92,2.82,2.83,3.06,2.85]\n",
        "user_rating= [4, 3, 5, 4, 5, 3, 5, 5, 4, 2, 4, 5, 5, 4, 4, 5, 4, 5, 4, 5]\n",
        "mileage=[14.08,14.13,15.63,13.78,16.26,14.97,15.36,15.81,14.53,16.79,15.78,16.98,13.23,15.43,]"
      ],
      "execution_count": null,
      "outputs": []
    },
    {
      "cell_type": "markdown",
      "metadata": {
        "id": "hp3xOLUBb9PI"
      },
      "source": [
        "#Known variance hypothesis testing "
      ]
    },
    {
      "cell_type": "markdown",
      "metadata": {
        "id": "HyGKTXg5c009"
      },
      "source": [
        "Two tailed test"
      ]
    },
    {
      "cell_type": "code",
      "metadata": {
        "colab": {
          "base_uri": "https://localhost:8080/"
        },
        "id": "BNEGJCZ0b8Ra",
        "outputId": "4b560986-8cfa-4fb9-9db9-b2460d1a8d00"
      },
      "source": [
        "# from math import sqrt \n",
        "# import numpy as np\n",
        "# from scipy.stats import norm\n",
        "\n",
        "# # given \n",
        "# mu_0 =3 # population mean\n",
        "# sigma=0.1\n",
        "\n",
        "# #collect sample\n",
        "# sample = ball_bearing\n",
        "# n=len(sample)\n",
        "# #compute mean\n",
        "# sample_mean=np.mean(sample)\n",
        "\n",
        "# #compute test static \n",
        "# z=(sample_mean-mu_0)/(sigma/sqrt(n))\n",
        "\n",
        "# alpha= 0.05\n",
        "# z_critical = norm.ppf(1-alpha/2)    # it gives probabily of region less than the value we passed \n",
        "# p_value=2*(1.0 -norm.cdf(np.abs(z))) # \n",
        "\n",
        "# p_value = float(\"{:.4f}\".format(p_value))\n",
        "\n",
        "# if (np.abs(z) > norm.ppf(1-alpha/2)):\n",
        "#   print('reject Null hypothessis : p_value = ',p_value,'alpha = ',alpha)\n",
        "# else:\n",
        "#   print('Not enough evidence to reject Null Hypotheis: p_value=  ',p_value,'alpha = ',alpha)\n"
      ],
      "execution_count": null,
      "outputs": [
        {
          "output_type": "stream",
          "name": "stdout",
          "text": [
            "reject Null hypothessis : p_value =  0.001 alpha =  0.05\n"
          ]
        }
      ]
    },
    {
      "cell_type": "markdown",
      "metadata": {
        "id": "6LR9J7QQmYnU"
      },
      "source": [
        "one tailed test"
      ]
    },
    {
      "cell_type": "code",
      "metadata": {
        "colab": {
          "base_uri": "https://localhost:8080/"
        },
        "id": "P8yNPb-pk2GM",
        "outputId": "30a96b0d-dbe0-45fe-dba4-59ed51bac233"
      },
      "source": [
        "from math import sqrt \n",
        "import numpy as np\n",
        "from scipy.stats import norm\n",
        "\n",
        "# given \n",
        "mu_0 =4 # population mean\n",
        "sigma=0.5\n",
        "\n",
        "#collect sample\n",
        "sample = user_rating\n",
        "n=len(sample)\n",
        "#compute mean\n",
        "sample_mean=np.mean(sample)\n",
        "\n",
        "#compute test static \n",
        "z=(sample_mean-mu_0)/(sigma/sqrt(n))\n",
        "\n",
        "alpha= 0.05\n",
        "z_critical = norm.ppf(1-alpha)    # it gives probabily of region less than the value we passed \n",
        "p_value=(1.0 -norm.cdf(np.abs(z))) # cumuulative distributive function \n",
        "\n",
        "print(sample_mean,z,z_critical)\n",
        "\n",
        "p_value = float(\"{:.4f}\".format(p_value))\n",
        "\n",
        "if (np.abs(z) > norm.ppf(1-alpha/2)):\n",
        "  print('reject Null hypothessis : p_value = ',p_value,'alpha = ',alpha)\n",
        "else:\n",
        "  print('Not enough evidence to reject Null Hypotheis: p_value=  ',p_value,'alpha = ',alpha)"
      ],
      "execution_count": null,
      "outputs": [
        {
          "output_type": "stream",
          "name": "stdout",
          "text": [
            "4.25 2.23606797749979 1.6448536269514722\n",
            "reject Null hypothessis : p_value =  0.0127 alpha =  0.05\n"
          ]
        }
      ]
    },
    {
      "cell_type": "markdown",
      "metadata": {
        "id": "J2G32xVpmIbd"
      },
      "source": [
        "#Unknown Variance "
      ]
    },
    {
      "cell_type": "markdown",
      "metadata": {
        "id": "CiZ__-u_mV_S"
      },
      "source": [
        "two tailed test"
      ]
    },
    {
      "cell_type": "code",
      "metadata": {
        "colab": {
          "base_uri": "https://localhost:8080/"
        },
        "id": "7vr0MbpBmVK1",
        "outputId": "cf24652a-1c22-494c-98d5-4c11d2c34dc8"
      },
      "source": [
        "from math import sqrt\n",
        "import numpy as np\n",
        "from scipy.stats import t\n",
        "\n",
        "#given \n",
        "mu_0=200\n",
        "\n",
        "#collect sample\n",
        "sample = chip_weigths\n",
        "\n",
        "n=len(sample)\n",
        "\n",
        "#compute mean\n",
        "\n",
        "mean = np.mean(sample)\n",
        "stddev = np.std(sample,ddof=1)\n",
        "\n",
        "#compute test static \n",
        "t_static =(mean-mu_0)/(stddev/sqrt(n))\n",
        "\n",
        "#set alp[ha \n",
        "alpha = 0.05 \n",
        "t_critical = t.ppf(1-alpha/2,n-1)\n",
        "p_value=2*(1.0-t.cdf(np.abs(t_static),n-1))\n",
        "\n",
        "print(mean ,stddev,t_static,t_critical)\n",
        "\n",
        "p_value = float(\"{:4f}\".format(p_value))\n",
        "\n",
        "if (np.abs(t_static)>norm.ppf(1-alpha/2)):\n",
        "  print('Reject Null Hypothesis : p_value = ',p_value,'alpha = ',alpha)\n",
        "else : \n",
        "  print('Not enough evidence to reject Null Hypothesis : p_value',p_value,'alpha = ',alpha)\n"
      ],
      "execution_count": null,
      "outputs": [
        {
          "output_type": "stream",
          "name": "stdout",
          "text": [
            "194.5 10.67967956240053 -1.628562638916544 2.2621571627409915\n",
            "Not enough evidence to reject Null Hypothesis : p_value 0.137846 alpha =  0.05\n"
          ]
        }
      ]
    },
    {
      "cell_type": "markdown",
      "metadata": {
        "id": "DTSZufFosXld"
      },
      "source": [
        "one-tailed test"
      ]
    },
    {
      "cell_type": "code",
      "metadata": {
        "colab": {
          "base_uri": "https://localhost:8080/"
        },
        "id": "NsWQGM9EsZnR",
        "outputId": "73504fa1-d48c-4068-9357-0c987d6d94a4"
      },
      "source": [
        "from math import sqrt\n",
        "import numpy as np\n",
        "from scipy.stats import t\n",
        "\n",
        "#given \n",
        "mu_0=4\n",
        "\n",
        "#collect sample\n",
        "sample = user_rating\n",
        "\n",
        "n=len(sample)\n",
        "\n",
        "#compute mean\n",
        "\n",
        "mean = np.mean(sample)\n",
        "stddev = np.std(sample,ddof=1)\n",
        "\n",
        "#compute test static \n",
        "t_static =(mean-mu_0)/(stddev/sqrt(n))\n",
        "\n",
        "#set alp[ha \n",
        "alpha = 0.05 \n",
        "t_critical = t.ppf(1-alpha,n-1)\n",
        "p_value=2*(1.0-t.cdf(np.abs(t_static),n-1))\n",
        "\n",
        "print(mean ,stddev,t_static,t_critical)\n",
        "\n",
        "p_value = float(\"{:4f}\".format(p_value))\n",
        "\n",
        "if (np.abs(t_static)>t_critical):\n",
        "  print('Reject Null Hypothesis : p_value = ',p_value,'alpha = ',alpha)\n",
        "else : \n",
        "  print('Not enough evidence to reject Null Hypothesis : p_value',p_value,'alpha = ',alpha)"
      ],
      "execution_count": null,
      "outputs": [
        {
          "output_type": "stream",
          "name": "stdout",
          "text": [
            "4.25 0.8506963092234007 1.3142574813455419 1.729132811521367\n",
            "Not enough evidence to reject Null Hypothesis : p_value 0.204406 alpha =  0.05\n"
          ]
        }
      ]
    },
    {
      "cell_type": "markdown",
      "metadata": {
        "id": "gzNABZecuLi1"
      },
      "source": [
        "#Plotting "
      ]
    },
    {
      "cell_type": "code",
      "metadata": {
        "colab": {
          "base_uri": "https://localhost:8080/",
          "height": 269
        },
        "id": "AWMHUJKOuLLU",
        "outputId": "2138f52f-b5d5-4ba8-d8d7-c2035855f1ff"
      },
      "source": [
        "import matplotlib.pyplot as plt\n",
        "import numpy as np\n",
        "from scipy.stats import norm\n",
        "from scipy.stats import t\n",
        "from scipy.stats import chi2\n",
        "\n",
        "x_min =-4\n",
        "x_max=10\n",
        "\n",
        "mean=0\n",
        "std=1\n",
        "\n",
        "x= np.linspace(x_min,x_max,100)\n",
        "\n",
        "y=norm.pdf(x,mean,std)\n",
        "y3 = t.pdf(x,2)\n",
        "y3 = chi2.pdf(x,4)\n",
        "\n",
        "ax=plt.gca()\n",
        "plt.xlim(x_min,x_max)\n",
        "plt.ylim(0,0.7)\n",
        "\n",
        "plt.plot(x,y)\n",
        "plt.plot(x,y2)\n",
        "plt.plot(x,y3)\n",
        "\n",
        "\n",
        "\n",
        "# x1 = np.linspace(-4,-1.96,100)\n",
        "# y1 = norm.pdf(x1,mean,std)\n",
        "# plt.fill_between(x1,y1,color='orange',alpha=0.5)\n",
        "\n",
        "# x2 = np.linspace(1.96,4,100)\n",
        "# y2 = norm.pdf(x2,mean,std)\n",
        "# plt.fill_between(x2,y2,color='orange',alpha=0.5)\n",
        "\n",
        "plt.savefig(\"normal_dist.png\",dpi=400,transparent=True)\n",
        "plt.show()\n"
      ],
      "execution_count": 8,
      "outputs": [
        {
          "output_type": "display_data",
          "data": {
            "image/png": "[encoded data removed]",
            "text/plain": [
              "<Figure size 432x288 with 1 Axes>"
            ]
          },
          "metadata": {
            "needs_background": "light"
          }
        }
      ]
    }
  ]
}