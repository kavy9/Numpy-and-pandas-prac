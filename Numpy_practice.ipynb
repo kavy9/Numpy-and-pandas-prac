{
  "nbformat": 4,
  "nbformat_minor": 0,
  "metadata": {
    "colab": {
      "name": "Numpy_practice.ipynb",
      "provenance": [],
      "collapsed_sections": [
        "odp3C6NrufqT",
        "cnEljbGj8puR"
      ],
      "authorship_tag": "ABX9TyP7H6YGlRT6P/DUsp0MnMe6",
      "include_colab_link": true
    },
    "kernelspec": {
      "name": "python3",
      "display_name": "Python 3"
    },
    "language_info": {
      "name": "python"
    }
  },
  "cells": [
    {
      "cell_type": "markdown",
      "metadata": {
        "id": "view-in-github",
        "colab_type": "text"
      },
      "source": [
        "<a href=\"https://colab.research.google.com/github/kavy9/Numpy_prac/blob/main/Numpy_practice.ipynb\" target=\"_parent\"><img src=\"https://colab.research.google.com/assets/colab-badge.svg\" alt=\"Open In Colab\"/></a>"
      ]
    },
    {
      "cell_type": "code",
      "metadata": {
        "id": "wT7iYHjqoXer"
      },
      "source": [
        "import numpy as np"
      ],
      "execution_count": null,
      "outputs": []
    },
    {
      "cell_type": "code",
      "metadata": {
        "id": "50U6BpUHmHA_"
      },
      "source": [
        "arr=np.random.randint(0,10,4)"
      ],
      "execution_count": null,
      "outputs": []
    },
    {
      "cell_type": "code",
      "metadata": {
        "colab": {
          "base_uri": "https://localhost:8080/"
        },
        "id": "8ekKlLeLmMYn",
        "outputId": "b26ceb1a-0f5a-4067-8c61-170ca3f9942a"
      },
      "source": [
        "print(arr[arr>2])"
      ],
      "execution_count": null,
      "outputs": [
        {
          "output_type": "stream",
          "text": [
            "[4 3]\n"
          ],
          "name": "stdout"
        }
      ]
    },
    {
      "cell_type": "code",
      "metadata": {
        "id": "EIYMV1yjog92"
      },
      "source": [
        "x=np.random.rand(10000)\n",
        "y=np.random.rand(10000)"
      ],
      "execution_count": null,
      "outputs": []
    },
    {
      "cell_type": "code",
      "metadata": {
        "id": "mIXHm1toousH"
      },
      "source": [
        "def length(x,y):\n",
        "  array=[]\n",
        "  for i in range(10000):\n",
        "    length0 = np.sqrt(x[i]*x[i]+y[i]*y[i]) \n",
        "    if length0<1:\n",
        "      array.append(length0)\n",
        "\n",
        "  return array"
      ],
      "execution_count": null,
      "outputs": []
    },
    {
      "cell_type": "code",
      "metadata": {
        "id": "JL_UEwClqEau"
      },
      "source": [
        "aray=np.array(length(x,y))"
      ],
      "execution_count": null,
      "outputs": []
    },
    {
      "cell_type": "code",
      "metadata": {
        "colab": {
          "base_uri": "https://localhost:8080/"
        },
        "id": "xAcxYAQQqXSc",
        "outputId": "e5211706-d3e5-4498-fe90-f5cec4b793bf"
      },
      "source": [
        "1-aray.size/10000"
      ],
      "execution_count": null,
      "outputs": [
        {
          "output_type": "execute_result",
          "data": {
            "text/plain": [
              "0.21930000000000005"
            ]
          },
          "metadata": {
            "tags": []
          },
          "execution_count": 23
        }
      ]
    },
    {
      "cell_type": "markdown",
      "metadata": {
        "id": "odp3C6NrufqT"
      },
      "source": [
        "###better method\n"
      ]
    },
    {
      "cell_type": "code",
      "metadata": {
        "id": "YF6KfLpRuhzK"
      },
      "source": [
        "sample = np.random.rand(10000,2)"
      ],
      "execution_count": null,
      "outputs": []
    },
    {
      "cell_type": "code",
      "metadata": {
        "id": "N6TM-rgJwE7Z"
      },
      "source": [
        "sq_sample=sample*sample\n",
        "dffo=np.sqrt(np.sum(sq_sample,axis=1))"
      ],
      "execution_count": null,
      "outputs": []
    },
    {
      "cell_type": "code",
      "metadata": {
        "id": "oTLbeDxDz1cX"
      },
      "source": [
        "ouside_points=np.sum(dffo>1)"
      ],
      "execution_count": null,
      "outputs": []
    },
    {
      "cell_type": "code",
      "metadata": {
        "colab": {
          "base_uri": "https://localhost:8080/"
        },
        "id": "c-iTSMY-0CDX",
        "outputId": "ffe8a4a0-8173-429c-872d-b60dd95925fb"
      },
      "source": [
        "ouside_points/10000"
      ],
      "execution_count": null,
      "outputs": [
        {
          "output_type": "execute_result",
          "data": {
            "text/plain": [
              "0.2182"
            ]
          },
          "metadata": {
            "tags": []
          },
          "execution_count": 31
        }
      ]
    },
    {
      "cell_type": "markdown",
      "metadata": {
        "id": "kd3y51kI0mKZ"
      },
      "source": [
        "more fast\n"
      ]
    },
    {
      "cell_type": "code",
      "metadata": {
        "id": "jmzpDK2_0lt_"
      },
      "source": [
        "outside_points=np.sum(np.sqrt(np.sum(sample*sample,axis=1))>1)"
      ],
      "execution_count": null,
      "outputs": []
    },
    {
      "cell_type": "markdown",
      "metadata": {
        "id": "cnEljbGj8puR"
      },
      "source": [
        "###FILE HANDLING"
      ]
    },
    {
      "cell_type": "code",
      "metadata": {
        "id": "2yP2IyzV8s0J"
      },
      "source": [
        "planet_small = np.loadtxt(\"planet_small.txt\",\n",
        "                          skiprows=1,\n",
        "                          usecols=(1,2,3,4,5,6,7,8,9)\n",
        "                          )"
      ],
      "execution_count": null,
      "outputs": []
    },
    {
      "cell_type": "code",
      "metadata": {
        "colab": {
          "base_uri": "https://localhost:8080/"
        },
        "id": "eRhHRpDp9VwZ",
        "outputId": "8d3d576e-f379-40e4-d509-c72aa112ada3"
      },
      "source": [
        "planet_small"
      ],
      "execution_count": null,
      "outputs": [
        {
          "output_type": "execute_result",
          "data": {
            "text/plain": [
              "array([[3.3000e-01, 4.8700e+00, 5.9700e+00, 6.4200e-01, 1.8980e+03,\n",
              "        5.6800e+02, 8.6800e+01, 1.0200e+02, 1.4600e-02],\n",
              "       [5.7900e+01, 1.0820e+02, 1.4960e+02, 2.2790e+02, 7.7860e+02,\n",
              "        1.4335e+03, 2.8725e+03, 4.4951e+03, 5.9064e+03],\n",
              "       [4.2226e+03, 2.8020e+03, 2.4000e+01, 2.4700e+01, 9.9000e+00,\n",
              "        1.0700e+01, 1.7200e+01, 1.6100e+01, 1.5330e+02]])"
            ]
          },
          "metadata": {
            "tags": []
          },
          "execution_count": 34
        }
      ]
    },
    {
      "cell_type": "code",
      "metadata": {
        "id": "ot9IMsPEzvUe"
      },
      "source": [
        "planet= np.genfromtxt(\"planet.txt\",\n",
        "                       skip_header = 1,\n",
        "                       usecols=[1,2,3,4,5,6,7,8,9]\n",
        "                       )"
      ],
      "execution_count": null,
      "outputs": []
    },
    {
      "cell_type": "code",
      "metadata": {
        "colab": {
          "base_uri": "https://localhost:8080/"
        },
        "id": "90BMtl-E5fWa",
        "outputId": "b30aef3c-f158-4189-bc6a-0960c73caeef"
      },
      "source": [
        "planet"
      ],
      "execution_count": null,
      "outputs": [
        {
          "output_type": "execute_result",
          "data": {
            "text/plain": [
              "array([[ 3.30000e-01,  4.87000e+00,  5.97000e+00,  7.30000e-02,\n",
              "         6.42000e-01,  1.89800e+03,  5.68000e+02,  8.68000e+01,\n",
              "         1.02000e+02],\n",
              "       [ 4.87900e+03,  1.21040e+04,  1.27560e+04,  3.47500e+03,\n",
              "         6.79200e+03,  1.42984e+05,  1.20536e+05,  5.11180e+04,\n",
              "         4.95280e+04],\n",
              "       [ 5.42700e+03,  5.24300e+03,  5.51400e+03,  3.34000e+03,\n",
              "         3.93300e+03,  1.32600e+03,  6.87000e+02,  1.27100e+03,\n",
              "         1.63800e+03],\n",
              "       [ 3.70000e+00,  8.90000e+00,  9.80000e+00,  1.60000e+00,\n",
              "         3.70000e+00,  2.31000e+01,  9.00000e+00,  8.70000e+00,\n",
              "         1.10000e+01],\n",
              "       [ 4.30000e+00,  1.04000e+01,  1.12000e+01,  2.40000e+00,\n",
              "         5.00000e+00,  5.95000e+01,  3.55000e+01,  2.13000e+01,\n",
              "         2.35000e+01],\n",
              "       [ 1.40760e+03, -5.83250e+03,  2.39000e+01,  6.55700e+02,\n",
              "         2.46000e+01,  9.90000e+00,  1.07000e+01, -1.72000e+01,\n",
              "         1.61000e+01],\n",
              "       [ 4.22260e+03,  2.80200e+03,  2.40000e+01,  7.08700e+02,\n",
              "         2.47000e+01,  9.90000e+00,  1.07000e+01,  1.72000e+01,\n",
              "         1.61000e+01],\n",
              "       [ 5.79000e+01,  1.08200e+02,  1.49600e+02,  3.84000e-01,\n",
              "         2.27900e+02,  7.78600e+02,  1.43350e+03,  2.87250e+03,\n",
              "         4.49510e+03],\n",
              "       [ 4.60000e+01,  1.07500e+02,  1.47100e+02,  3.63000e-01,\n",
              "         2.06600e+02,  7.40500e+02,  1.35260e+03,  2.74130e+03,\n",
              "         4.44450e+03],\n",
              "       [ 6.98000e+01,  1.08900e+02,  1.52100e+02,  4.06000e-01,\n",
              "         2.49200e+02,  8.16600e+02,  1.51450e+03,  3.00360e+03,\n",
              "         4.54570e+03],\n",
              "       [ 8.80000e+01,  2.24700e+02,  3.65200e+02,  2.73000e+01,\n",
              "         6.87000e+02,  4.33100e+03,  1.07470e+04,  3.05890e+04,\n",
              "         5.98000e+04],\n",
              "       [ 4.74000e+01,  3.50000e+01,  2.98000e+01,  1.00000e+00,\n",
              "         2.41000e+01,  1.31000e+01,  9.70000e+00,  6.80000e+00,\n",
              "         5.40000e+00],\n",
              "       [ 7.00000e+00,  3.40000e+00,  0.00000e+00,  5.10000e+00,\n",
              "         1.90000e+00,  1.30000e+00,  2.50000e+00,  8.00000e-01,\n",
              "         1.80000e+00],\n",
              "       [ 2.05000e-01,  7.00000e-03,  1.70000e-02,  5.50000e-02,\n",
              "         9.40000e-02,  4.90000e-02,  5.70000e-02,  4.60000e-02,\n",
              "         1.10000e-02],\n",
              "       [ 3.40000e-02,  1.77400e+02,  2.34000e+01,  6.70000e+00,\n",
              "         2.52000e+01,  3.10000e+00,  2.67000e+01,  9.78000e+01,\n",
              "         2.83000e+01],\n",
              "       [ 1.67000e+02,  4.64000e+02,  1.50000e+01, -2.00000e+01,\n",
              "        -6.50000e+01, -1.10000e+02, -1.40000e+02, -1.95000e+02,\n",
              "        -2.00000e+02],\n",
              "       [ 0.00000e+00,  9.20000e+01,  1.00000e+00,  0.00000e+00,\n",
              "         1.00000e-02,          nan,          nan,          nan,\n",
              "                 nan],\n",
              "       [ 0.00000e+00,  0.00000e+00,  1.00000e+00,  0.00000e+00,\n",
              "         2.00000e+00,  7.90000e+01,  8.20000e+01,  2.70000e+01,\n",
              "         1.40000e+01],\n",
              "       [ 0.00000e+00,  0.00000e+00,  0.00000e+00,  0.00000e+00,\n",
              "         0.00000e+00,  1.00000e+00,  1.00000e+00,  1.00000e+00,\n",
              "         1.00000e+00],\n",
              "       [ 1.00000e+00,  0.00000e+00,  1.00000e+00,  0.00000e+00,\n",
              "         0.00000e+00,  1.00000e+00,  1.00000e+00,  1.00000e+00,\n",
              "         1.00000e+00]])"
            ]
          },
          "metadata": {
            "tags": []
          },
          "execution_count": 7
        }
      ]
    },
    {
      "cell_type": "code",
      "metadata": {
        "colab": {
          "base_uri": "https://localhost:8080/"
        },
        "id": "xyGC1OZk5i5S",
        "outputId": "c9e88c2e-4e2a-42d8-86ca-dd8d64dce467"
      },
      "source": [
        "planet.shape"
      ],
      "execution_count": null,
      "outputs": [
        {
          "output_type": "execute_result",
          "data": {
            "text/plain": [
              "(20, 9)"
            ]
          },
          "metadata": {
            "tags": []
          },
          "execution_count": 8
        }
      ]
    },
    {
      "cell_type": "code",
      "metadata": {
        "colab": {
          "base_uri": "https://localhost:8080/"
        },
        "id": "CW6vknI5DxFu",
        "outputId": "a8308f5b-e11a-4b70-e2e7-7aeda7b9098c"
      },
      "source": [
        "np.isnan(planet  )"
      ],
      "execution_count": null,
      "outputs": [
        {
          "output_type": "execute_result",
          "data": {
            "text/plain": [
              "array([[False, False, False, False, False, False, False, False, False],\n",
              "       [False, False, False, False, False, False, False, False, False],\n",
              "       [False, False, False, False, False, False, False, False, False],\n",
              "       [False, False, False, False, False, False, False, False, False],\n",
              "       [False, False, False, False, False, False, False, False, False],\n",
              "       [False, False, False, False, False, False, False, False, False],\n",
              "       [False, False, False, False, False, False, False, False, False],\n",
              "       [False, False, False, False, False, False, False, False, False],\n",
              "       [False, False, False, False, False, False, False, False, False],\n",
              "       [False, False, False, False, False, False, False, False, False],\n",
              "       [False, False, False, False, False, False, False, False, False],\n",
              "       [False, False, False, False, False, False, False, False, False],\n",
              "       [False, False, False, False, False, False, False, False, False],\n",
              "       [False, False, False, False, False, False, False, False, False],\n",
              "       [False, False, False, False, False, False, False, False, False],\n",
              "       [False, False, False, False, False, False, False, False, False],\n",
              "       [False, False, False, False, False,  True,  True,  True,  True],\n",
              "       [False, False, False, False, False, False, False, False, False],\n",
              "       [False, False, False, False, False, False, False, False, False],\n",
              "       [False, False, False, False, False, False, False, False, False]])"
            ]
          },
          "metadata": {
            "tags": []
          },
          "execution_count": 9
        }
      ]
    },
    {
      "cell_type": "code",
      "metadata": {
        "id": "fPoWTZcND_HD"
      },
      "source": [
        ""
      ],
      "execution_count": null,
      "outputs": []
    },
    {
      "cell_type": "code",
      "metadata": {
        "id": "4smTrc41FUmj"
      },
      "source": [
        ""
      ],
      "execution_count": null,
      "outputs": []
    },
    {
      "cell_type": "markdown",
      "metadata": {
        "id": "cFZSw8L8FVNb"
      },
      "source": [
        "###case study and problem "
      ]
    },
    {
      "cell_type": "code",
      "metadata": {
        "colab": {
          "base_uri": "https://localhost:8080/"
        },
        "id": "jOpqhvheFXbl",
        "outputId": "a1ce8796-2628-495d-8471-bb3a7f67d3c8"
      },
      "source": [
        "!head cric_data.tsv"
      ],
      "execution_count": null,
      "outputs": [
        {
          "output_type": "stream",
          "text": [
            "\tSachin Tendulkar\tRahul Dravid\tIndia\n",
            "0\t100\t78\t342\n",
            "1\t11\t62\t191\n",
            "2\t8\t85\t252\n",
            "3\t71\t24\t307\n",
            "4\t104\t17\t229\n",
            "5\t18\t104\t246\n",
            "6\t8\t76\t226\n",
            "7\t86\t74\t288\n",
            "8\t12\t60\t216\n"
          ],
          "name": "stdout"
        }
      ]
    },
    {
      "cell_type": "code",
      "metadata": {
        "id": "ZBLUv_3BLoZF"
      },
      "source": [
        "data  = np.genfromtxt(\"cric_data.tsv\",skip_header=1,usecols=[1,2,3])"
      ],
      "execution_count": null,
      "outputs": []
    },
    {
      "cell_type": "code",
      "metadata": {
        "id": "z5WDmmXdMc8l"
      },
      "source": [
        "all_mean = np.mean(data,axis=0)"
      ],
      "execution_count": null,
      "outputs": []
    },
    {
      "cell_type": "code",
      "metadata": {
        "colab": {
          "base_uri": "https://localhost:8080/"
        },
        "id": "_pJzxaHTMsOs",
        "outputId": "a5602576-9327-4b72-a667-ae88ea95d3c2"
      },
      "source": [
        "all_mean"
      ],
      "execution_count": null,
      "outputs": [
        {
          "output_type": "execute_result",
          "data": {
            "text/plain": [
              "array([ 39.87555556,  32.06222222, 220.79555556])"
            ]
          },
          "metadata": {
            "tags": []
          },
          "execution_count": 14
        }
      ]
    },
    {
      "cell_type": "code",
      "metadata": {
        "id": "TEg4VJHHMuKW"
      },
      "source": [
        "all_meadian = np.median(data,axis=0)"
      ],
      "execution_count": null,
      "outputs": []
    },
    {
      "cell_type": "code",
      "metadata": {
        "colab": {
          "base_uri": "https://localhost:8080/"
        },
        "id": "RYiOlRvVNGcN",
        "outputId": "d6d6b76a-2d0d-4bd5-a59e-d5cb1306fc77"
      },
      "source": [
        "all_meadian"
      ],
      "execution_count": null,
      "outputs": [
        {
          "output_type": "execute_result",
          "data": {
            "text/plain": [
              "array([ 27.,  22., 216.])"
            ]
          },
          "metadata": {
            "tags": []
          },
          "execution_count": 16
        }
      ]
    },
    {
      "cell_type": "code",
      "metadata": {
        "colab": {
          "base_uri": "https://localhost:8080/"
        },
        "id": "EQWvldNdNIfF",
        "outputId": "d1632b03-2be1-4953-f93a-20c085ca86da"
      },
      "source": [
        "all_iqr = np.percentile(data,75,axis=0)-np.percentile(data,25,axis=0)\n",
        "all_iqr"
      ],
      "execution_count": null,
      "outputs": [
        {
          "output_type": "execute_result",
          "data": {
            "text/plain": [
              "array([57., 46., 98.])"
            ]
          },
          "metadata": {
            "tags": []
          },
          "execution_count": 18
        }
      ]
    },
    {
      "cell_type": "code",
      "metadata": {
        "colab": {
          "base_uri": "https://localhost:8080/"
        },
        "id": "15CJg_YgNjbE",
        "outputId": "c9b8fc96-56b5-473c-dddf-dcad2ab0c1cf"
      },
      "source": [
        "sachin = data[:,0]\n",
        "print(sachin.shape)\n",
        "rahul=data[:,1]\n",
        "rahul.shape"
      ],
      "execution_count": null,
      "outputs": [
        {
          "output_type": "stream",
          "text": [
            "(225,)\n"
          ],
          "name": "stdout"
        },
        {
          "output_type": "execute_result",
          "data": {
            "text/plain": [
              "(225,)"
            ]
          },
          "metadata": {
            "tags": []
          },
          "execution_count": 32
        }
      ]
    },
    {
      "cell_type": "code",
      "metadata": {
        "colab": {
          "base_uri": "https://localhost:8080/"
        },
        "id": "fz15fbNOhQU4",
        "outputId": "78d57005-7f3c-4b43-a49e-9a5bd065278f"
      },
      "source": [
        "new_sach=sachin.reshape(9,25)\n",
        "np.mean(new_sach,axis=1)"
      ],
      "execution_count": null,
      "outputs": [
        {
          "output_type": "execute_result",
          "data": {
            "text/plain": [
              "array([33.96, 49.4 , 38.48, 40.16, 39.36, 38.2 , 44.6 , 39.52, 35.2 ])"
            ]
          },
          "metadata": {
            "tags": []
          },
          "execution_count": 47
        }
      ]
    },
    {
      "cell_type": "code",
      "metadata": {
        "id": "YFYtz745hczg"
      },
      "source": [
        ""
      ],
      "execution_count": null,
      "outputs": []
    },
    {
      "cell_type": "code",
      "metadata": {
        "colab": {
          "base_uri": "https://localhost:8080/"
        },
        "id": "zo3iy4MCPbws",
        "outputId": "a8a08ba8-6690-4949-d7af-5029618ebec2"
      },
      "source": [
        "np.histogram(sachin)"
      ],
      "execution_count": null,
      "outputs": [
        {
          "output_type": "execute_result",
          "data": {
            "text/plain": [
              "(array([99, 36, 28, 16, 11, 17,  8,  8,  1,  1]),\n",
              " array([  0. ,  18.6,  37.2,  55.8,  74.4,  93. , 111.6, 130.2, 148.8,\n",
              "        167.4, 186. ]))"
            ]
          },
          "metadata": {
            "tags": []
          },
          "execution_count": 24
        }
      ]
    },
    {
      "cell_type": "code",
      "metadata": {
        "id": "WMTkPS8UPsUq"
      },
      "source": [
        "sachin_century=sachin[sachin>100]"
      ],
      "execution_count": null,
      "outputs": []
    },
    {
      "cell_type": "code",
      "metadata": {
        "colab": {
          "base_uri": "https://localhost:8080/"
        },
        "id": "oXXo4Rz7SqSK",
        "outputId": "cdc9b076-a061-484e-d5f0-f0cbf2b14988"
      },
      "source": [
        "np.mean(sachin_century)"
      ],
      "execution_count": null,
      "outputs": [
        {
          "output_type": "execute_result",
          "data": {
            "text/plain": [
              "128.2608695652174"
            ]
          },
          "metadata": {
            "tags": []
          },
          "execution_count": 49
        }
      ]
    },
    {
      "cell_type": "code",
      "metadata": {
        "colab": {
          "base_uri": "https://localhost:8080/"
        },
        "id": "8d5SoGm1StnB",
        "outputId": "a8d7cb65-9f77-4101-c27d-20b5cb7d0528"
      },
      "source": [
        "sachin_rahul = data[:,0:2]\n",
        "sachin_rahul.shape"
      ],
      "execution_count": null,
      "outputs": [
        {
          "output_type": "execute_result",
          "data": {
            "text/plain": [
              "(225, 2)"
            ]
          },
          "metadata": {
            "tags": []
          },
          "execution_count": 27
        }
      ]
    },
    {
      "cell_type": "code",
      "metadata": {
        "colab": {
          "base_uri": "https://localhost:8080/"
        },
        "id": "KAuG_s4bTL-w",
        "outputId": "b1e7bcbf-eba9-4c2d-f470-42d3be7b774a"
      },
      "source": [
        "s_score=sachin[rahul<10]\n",
        "\n",
        "np.mean(s_score)"
      ],
      "execution_count": null,
      "outputs": [
        {
          "output_type": "execute_result",
          "data": {
            "text/plain": [
              "40.74285714285714"
            ]
          },
          "metadata": {
            "tags": []
          },
          "execution_count": 34
        }
      ]
    },
    {
      "cell_type": "code",
      "metadata": {
        "id": "zPqKKqHeWA4H"
      },
      "source": [
        "def max_val(arr):\n",
        "  if arr[0]>arr[1]:\n",
        "    return \"sachin\" \n",
        "  elif arr[1]>arr[0]:\n",
        "    return \"rahul\"  \n",
        "  else:\n",
        "    return 0 \n",
        "result=[]\n",
        "for item in sachin_rahul:\n",
        "  result.append(max_val(item))\n",
        "\n",
        "result\n"
      ],
      "execution_count": null,
      "outputs": []
    },
    {
      "cell_type": "code",
      "metadata": {
        "id": "c9chsWU8eOwJ"
      },
      "source": [
        "sorted_india = data[:,2].argsort()"
      ],
      "execution_count": null,
      "outputs": []
    },
    {
      "cell_type": "code",
      "metadata": {
        "id": "y8Vfq1TkyIQ8"
      },
      "source": [
        "qrs = np.percentile(data[:,2],[25,50,75,100])\n"
      ],
      "execution_count": null,
      "outputs": []
    },
    {
      "cell_type": "code",
      "metadata": {
        "colab": {
          "base_uri": "https://localhost:8080/"
        },
        "id": "FrjR1yB2323Y",
        "outputId": "6c5c4558-f2d0-459b-aed1-38df894c1da3"
      },
      "source": [
        "np.mean(sachin[data[:,2]<])"
      ],
      "execution_count": null,
      "outputs": [
        {
          "output_type": "execute_result",
          "data": {
            "text/plain": [
              "39.799107142857146"
            ]
          },
          "metadata": {
            "tags": []
          },
          "execution_count": 66
        }
      ]
    },
    {
      "cell_type": "code",
      "metadata": {
        "colab": {
          "base_uri": "https://localhost:8080/"
        },
        "id": "7pmXTeOf7TIG",
        "outputId": "5ec126a0-98da-468f-f876-e2930bd222e7"
      },
      "source": [
        "india = data[:,2]\n",
        "qrs = qrs.reshape(4,1)\n",
        "indices = india<qrs\n",
        "for i in range(4):\n",
        "  print(i,np.mean(sachin[indices[i]]))"
      ],
      "execution_count": null,
      "outputs": [
        {
          "output_type": "stream",
          "text": [
            "0 19.672727272727272\n",
            "1 28.18018018018018\n",
            "2 31.688622754491018\n",
            "3 39.799107142857146\n"
          ],
          "name": "stdout"
        }
      ]
    },
    {
      "cell_type": "code",
      "metadata": {
        "id": "0Z8pkF0d9DpN"
      },
      "source": [
        "is_rahul_higher = np.argmax(sachin_rahul,axis=1)\n"
      ],
      "execution_count": null,
      "outputs": []
    },
    {
      "cell_type": "code",
      "metadata": {
        "id": "VE-dCqQQ95Ae"
      },
      "source": [
        "np.where(is_rahul_higher==0,'sachin','Rahul')"
      ],
      "execution_count": null,
      "outputs": []
    },
    {
      "cell_type": "code",
      "metadata": {
        "colab": {
          "base_uri": "https://localhost:8080/"
        },
        "id": "XuSqOAwW-VFc",
        "outputId": "97b95953-ce36-47d9-be90-613bac447441"
      },
      "source": [
        "np.mean(sachin[sachin>40])\n",
        "\n",
        "x_arr = np.arange(0,101,5)\n",
        "x_arr= x_arr.reshape(x_arr.shape[0],1)\n",
        "x_arr.shape"
      ],
      "execution_count": null,
      "outputs": [
        {
          "output_type": "execute_result",
          "data": {
            "text/plain": [
              "(21, 1)"
            ]
          },
          "metadata": {
            "tags": []
          },
          "execution_count": 90
        }
      ]
    },
    {
      "cell_type": "code",
      "metadata": {
        "colab": {
          "base_uri": "https://localhost:8080/"
        },
        "id": "6Czg_W-VCMWL",
        "outputId": "1666cf49-fb5e-4d7e-bcf7-8151c1b4f30c"
      },
      "source": [
        "indices=(sachin>=x_arr)\n",
        "indices.shape"
      ],
      "execution_count": null,
      "outputs": [
        {
          "output_type": "execute_result",
          "data": {
            "text/plain": [
              "(21, 225)"
            ]
          },
          "metadata": {
            "tags": []
          },
          "execution_count": 92
        }
      ]
    },
    {
      "cell_type": "code",
      "metadata": {
        "id": "Xi9XJEK7CXzx"
      },
      "source": [
        ""
      ],
      "execution_count": null,
      "outputs": []
    },
    {
      "cell_type": "code",
      "metadata": {
        "colab": {
          "base_uri": "https://localhost:8080/"
        },
        "id": "AbPPGyWZASlc",
        "outputId": "36471a2b-4655-42df-8c16-073010a3a17f"
      },
      "source": [
        "for i in range(x_arr.shape[0]):\n",
        "  print(x_arr[i,0] ,np.mean(sachin[indices[i,:]])-x_arr[i,0])"
      ],
      "execution_count": null,
      "outputs": [
        {
          "output_type": "stream",
          "text": [
            "0 39.87555555555556\n",
            "5 45.61363636363637\n",
            "10 47.48026315789474\n",
            "15 47.45255474452555\n",
            "20 46.824\n",
            "25 44.10084033613445\n",
            "30 45.13461538461539\n",
            "35 43.24742268041237\n",
            "40 44.05882352941177\n",
            "45 43.41558441558442\n",
            "50 43.98529411764706\n",
            "55 42.317460317460316\n",
            "60 38.67213114754098\n",
            "65 37.654545454545456\n",
            "70 37.08163265306122\n",
            "75 34.347826086956516\n",
            "80 30.75\n",
            "85 28.650000000000006\n",
            "90 27.400000000000006\n",
            "95 26.433333333333337\n",
            "100 25.0\n"
          ],
          "name": "stdout"
        }
      ]
    },
    {
      "cell_type": "code",
      "metadata": {
        "colab": {
          "base_uri": "https://localhost:8080/"
        },
        "id": "2DN_7pyNEYh7",
        "outputId": "2a510146-1670-4196-c933-2b714dc44fa0"
      },
      "source": [
        "cumu_sum=np.cumsum(sachin)\n",
        "np.histogram(cumu_sum,bins=np.arange(0,10000,1000))"
      ],
      "execution_count": null,
      "outputs": [
        {
          "output_type": "execute_result",
          "data": {
            "text/plain": [
              "(array([29, 18, 26, 25, 26, 26, 23, 22, 30]),\n",
              " array([   0, 1000, 2000, 3000, 4000, 5000, 6000, 7000, 8000, 9000]))"
            ]
          },
          "metadata": {
            "tags": []
          },
          "execution_count": 100
        }
      ]
    },
    {
      "cell_type": "code",
      "metadata": {
        "id": "cyHPxurrgRzQ"
      },
      "source": [
        "random_=np.random.randint(1,12,1)\n"
      ],
      "execution_count": null,
      "outputs": []
    },
    {
      "cell_type": "code",
      "metadata": {
        "colab": {
          "base_uri": "https://localhost:8080/"
        },
        "id": "09uJ1IB1xRuH",
        "outputId": "e7974c9a-e389-4f8c-869e-7726032b7125"
      },
      "source": [
        "random_mean=random_.mean()/2\n",
        "random_mean"
      ],
      "execution_count": null,
      "outputs": [
        {
          "output_type": "execute_result",
          "data": {
            "text/plain": [
              "3.095"
            ]
          },
          "metadata": {},
          "execution_count": 46
        }
      ]
    },
    {
      "cell_type": "code",
      "metadata": {
        "id": "3pO_HOmzpc-J"
      },
      "source": [
        "import numpy as np"
      ],
      "execution_count": null,
      "outputs": []
    },
    {
      "cell_type": "code",
      "metadata": {
        "colab": {
          "base_uri": "https://localhost:8080/"
        },
        "id": "cPQ5tjf0p38T",
        "outputId": "c7097366-c7b4-47fc-fa84-e4b82afa8a2c"
      },
      "source": [
        "list_=[]\n",
        "for i in range(50):\n",
        "  arry=np.random.randint(1,6,(1000,i))\n",
        "  arry_mean=np.mean(arry,axis=1)\n",
        "  var_=np.var(arry_mean)\n",
        "  list_.append(var_)\n",
        "\n"
      ],
      "execution_count": null,
      "outputs": [
        {
          "output_type": "stream",
          "text": [
            "/usr/local/lib/python3.7/dist-packages/numpy/core/fromnumeric.py:3373: RuntimeWarning: Mean of empty slice.\n",
            "  out=out, **kwargs)\n",
            "/usr/local/lib/python3.7/dist-packages/numpy/core/_methods.py:163: RuntimeWarning: invalid value encountered in true_divide\n",
            "  ret, rcount, out=ret, casting='unsafe', subok=False)\n"
          ],
          "name": "stderr"
        }
      ]
    },
    {
      "cell_type": "code",
      "metadata": {
        "id": "CN-9sEbJtItK",
        "colab": {
          "base_uri": "https://localhost:8080/"
        },
        "outputId": "6e0279bd-6fdb-4bf9-c539-2408e1c943f1"
      },
      "source": [
        "for i in list_:\n",
        "  print(i)"
      ],
      "execution_count": null,
      "outputs": [
        {
          "output_type": "stream",
          "text": [
            "nan\n",
            "1.946759\n",
            "0.9909190000000001\n",
            "0.640727111111111\n",
            "0.4754234375\n",
            "0.37976156000000005\n",
            "0.31930488888888886\n",
            "0.3027203265306122\n",
            "0.238222484375\n",
            "0.21800640740740743\n",
            "0.20197679\n",
            "0.1908335867768595\n",
            "0.16650110416666666\n",
            "0.14537485798816568\n",
            "0.13555051020408163\n",
            "0.13159011111111113\n",
            "0.13337412109374996\n",
            "0.11642153633217993\n",
            "0.10532424691358025\n",
            "0.10606913019390582\n",
            "0.09667496\n",
            "0.10072148752834469\n",
            "0.08590214049586777\n",
            "0.08751197731568999\n",
            "0.08273187326388888\n",
            "0.0733855744\n",
            "0.07965943047337277\n",
            "0.07624960082304527\n",
            "0.06973864795918368\n",
            "0.06628898810939356\n",
            "0.06661006222222221\n",
            "0.06205068054110302\n",
            "0.06092842187500001\n",
            "0.06194040404040404\n",
            "0.05601207525951557\n",
            "0.057607979591836736\n",
            "0.055819073302469144\n",
            "0.051772650840029216\n",
            "0.054169781163434905\n",
            "0.05146612426035503\n",
            "0.048023149375000004\n",
            "0.04725622308149911\n",
            "0.04607485487528345\n",
            "0.04639684964845862\n",
            "0.046022912706611574\n",
            "0.0420629012345679\n",
            "0.04358258553875236\n",
            "0.041966317790855585\n",
            "0.040365206597222224\n",
            "0.04026751811745106\n"
          ],
          "name": "stdout"
        }
      ]
    },
    {
      "cell_type": "code",
      "metadata": {
        "colab": {
          "base_uri": "https://localhost:8080/",
          "height": 283
        },
        "id": "Qs27qYvAGtwP",
        "outputId": "b23f5041-bad0-47eb-8ca5-23ce1a9a986d"
      },
      "source": [
        "import matplotlib.pyplot as plt\n",
        "list_x=np.arange(0,50)\n",
        "plt.plot(list_x,list_)"
      ],
      "execution_count": null,
      "outputs": [
        {
          "output_type": "execute_result",
          "data": {
            "text/plain": [
              "[<matplotlib.lines.Line2D at 0x7fa564d09790>]"
            ]
          },
          "metadata": {},
          "execution_count": 19
        },
        {
          "output_type": "display_data",
          "data": {
            "image/png": "[encoded data removed]",
            "text/plain": [
              "<Figure size 432x288 with 1 Axes>"
            ]
          },
          "metadata": {
            "needs_background": "light"
          }
        }
      ]
    },
    {
      "cell_type": "code",
      "metadata": {
        "id": "20FjswkAHJyQ"
      },
      "source": [
        ""
      ],
      "execution_count": null,
      "outputs": []
    }
  ]
}