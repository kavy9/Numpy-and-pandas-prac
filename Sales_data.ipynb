{
  "nbformat": 4,
  "nbformat_minor": 0,
  "metadata": {
    "colab": {
      "name": "Sales_data.ipynb",
      "provenance": [],
      "collapsed_sections": [],
      "authorship_tag": "ABX9TyPNV/6iupJ5YstKFPnP6JEI",
      "include_colab_link": true
    },
    "kernelspec": {
      "name": "python3",
      "display_name": "Python 3"
    },
    "language_info": {
      "name": "python"
    }
  },
  "cells": [
    {
      "cell_type": "markdown",
      "metadata": {
        "id": "view-in-github",
        "colab_type": "text"
      },
      "source": [
        "<a href=\"https://colab.research.google.com/github/kavy9/Numpy-and-pandas-prac/blob/main/Sales_data.ipynb\" target=\"_parent\"><img src=\"https://colab.research.google.com/assets/colab-badge.svg\" alt=\"Open In Colab\"/></a>"
      ]
    },
    {
      "cell_type": "code",
      "metadata": {
        "id": "WOZLQkE3L_JQ"
      },
      "source": [
        "import pandas as pd\n",
        "import numpy as np\n",
        "import seaborn as sns\n",
        "from matplotlib import pyplot as plt"
      ],
      "execution_count": 1,
      "outputs": []
    },
    {
      "cell_type": "code",
      "metadata": {
        "id": "Afoon9I4MSHA"
      },
      "source": [
        "import glob "
      ],
      "execution_count": null,
      "outputs": []
    },
    {
      "cell_type": "code",
      "metadata": {
        "id": "FYj1RQb9M9zb"
      },
      "source": [
        "path = \"/content/\""
      ],
      "execution_count": null,
      "outputs": []
    },
    {
      "cell_type": "code",
      "metadata": {
        "id": "bEXglxWRNCy9"
      },
      "source": [
        "files = glob.glob(path+'*.csv')"
      ],
      "execution_count": null,
      "outputs": []
    },
    {
      "cell_type": "code",
      "metadata": {
        "id": "wvKuSb_TNtfD"
      },
      "source": [
        "all_file=[]"
      ],
      "execution_count": null,
      "outputs": []
    },
    {
      "cell_type": "code",
      "metadata": {
        "colab": {
          "base_uri": "https://localhost:8080/"
        },
        "id": "yJrNz5LGNVBU",
        "outputId": "fb8e1166-4cf6-4627-f01f-a5c918c4ceb6"
      },
      "source": [
        "files"
      ],
      "execution_count": null,
      "outputs": [
        {
          "output_type": "execute_result",
          "data": {
            "text/plain": [
              "['/content/Sales_August_2019.csv',\n",
              " '/content/Sales_April_2019.csv',\n",
              " '/content/Sales_May_2019.csv',\n",
              " '/content/Sales_January_2019.csv',\n",
              " '/content/Sales_November_2019.csv',\n",
              " '/content/Sales_June_2019.csv',\n",
              " '/content/Sales_March_2019.csv',\n",
              " '/content/Sales_December_2019.csv',\n",
              " '/content/Sales_February_2019.csv',\n",
              " '/content/Sales_October_2019.csv',\n",
              " '/content/Sales_July_2019.csv',\n",
              " '/content/Sales_September_2019.csv']"
            ]
          },
          "metadata": {},
          "execution_count": 10
        }
      ]
    },
    {
      "cell_type": "code",
      "metadata": {
        "id": "aBh3kBCUNVgY"
      },
      "source": [
        "for file_ in files:\n",
        "  df=pd.read_csv(file_)\n",
        "  all_file.append(df)\n",
        "data=pd.concat(all_file)"
      ],
      "execution_count": null,
      "outputs": []
    },
    {
      "cell_type": "code",
      "metadata": {
        "id": "dGCJRdbEtLo9"
      },
      "source": [
        "df=data"
      ],
      "execution_count": null,
      "outputs": []
    },
    {
      "cell_type": "code",
      "metadata": {
        "id": "63MbdC5tPBPw"
      },
      "source": [
        "df.dropna(inplace=True)"
      ],
      "execution_count": null,
      "outputs": []
    },
    {
      "cell_type": "code",
      "metadata": {
        "id": "R6tfg7nePRDJ",
        "colab": {
          "base_uri": "https://localhost:8080/",
          "height": 606
        },
        "outputId": "89509264-7cd4-4ec4-a2ff-4762a0e1dafc"
      },
      "source": [
        "df"
      ],
      "execution_count": null,
      "outputs": [
        {
          "output_type": "execute_result",
          "data": {
            "text/html": [
              "<div>\n",
              "<style scoped>\n",
              "    .dataframe tbody tr th:only-of-type {\n",
              "        vertical-align: middle;\n",
              "    }\n",
              "\n",
              "    .dataframe tbody tr th {\n",
              "        vertical-align: top;\n",
              "    }\n",
              "\n",
              "    .dataframe thead th {\n",
              "        text-align: right;\n",
              "    }\n",
              "</style>\n",
              "<table border=\"1\" class=\"dataframe\">\n",
              "  <thead>\n",
              "    <tr style=\"text-align: right;\">\n",
              "      <th></th>\n",
              "      <th>Order ID</th>\n",
              "      <th>Product</th>\n",
              "      <th>Quantity Ordered</th>\n",
              "      <th>Price Each</th>\n",
              "      <th>Order Date</th>\n",
              "      <th>Purchase Address</th>\n",
              "    </tr>\n",
              "  </thead>\n",
              "  <tbody>\n",
              "    <tr>\n",
              "      <th>0</th>\n",
              "      <td>236670</td>\n",
              "      <td>Wired Headphones</td>\n",
              "      <td>2</td>\n",
              "      <td>11.99</td>\n",
              "      <td>08/31/19 22:21</td>\n",
              "      <td>359 Spruce St, Seattle, WA 98101</td>\n",
              "    </tr>\n",
              "    <tr>\n",
              "      <th>1</th>\n",
              "      <td>236671</td>\n",
              "      <td>Bose SoundSport Headphones</td>\n",
              "      <td>1</td>\n",
              "      <td>99.99</td>\n",
              "      <td>08/15/19 15:11</td>\n",
              "      <td>492 Ridge St, Dallas, TX 75001</td>\n",
              "    </tr>\n",
              "    <tr>\n",
              "      <th>2</th>\n",
              "      <td>236672</td>\n",
              "      <td>iPhone</td>\n",
              "      <td>1</td>\n",
              "      <td>700.0</td>\n",
              "      <td>08/06/19 14:40</td>\n",
              "      <td>149 7th St, Portland, OR 97035</td>\n",
              "    </tr>\n",
              "    <tr>\n",
              "      <th>3</th>\n",
              "      <td>236673</td>\n",
              "      <td>AA Batteries (4-pack)</td>\n",
              "      <td>2</td>\n",
              "      <td>3.84</td>\n",
              "      <td>08/29/19 20:59</td>\n",
              "      <td>631 2nd St, Los Angeles, CA 90001</td>\n",
              "    </tr>\n",
              "    <tr>\n",
              "      <th>4</th>\n",
              "      <td>236674</td>\n",
              "      <td>AA Batteries (4-pack)</td>\n",
              "      <td>2</td>\n",
              "      <td>3.84</td>\n",
              "      <td>08/15/19 19:53</td>\n",
              "      <td>736 14th St, New York City, NY 10001</td>\n",
              "    </tr>\n",
              "    <tr>\n",
              "      <th>...</th>\n",
              "      <td>...</td>\n",
              "      <td>...</td>\n",
              "      <td>...</td>\n",
              "      <td>...</td>\n",
              "      <td>...</td>\n",
              "      <td>...</td>\n",
              "    </tr>\n",
              "    <tr>\n",
              "      <th>11681</th>\n",
              "      <td>259353</td>\n",
              "      <td>AAA Batteries (4-pack)</td>\n",
              "      <td>3</td>\n",
              "      <td>2.99</td>\n",
              "      <td>09/17/19 20:56</td>\n",
              "      <td>840 Highland St, Los Angeles, CA 90001</td>\n",
              "    </tr>\n",
              "    <tr>\n",
              "      <th>11682</th>\n",
              "      <td>259354</td>\n",
              "      <td>iPhone</td>\n",
              "      <td>1</td>\n",
              "      <td>700</td>\n",
              "      <td>09/01/19 16:00</td>\n",
              "      <td>216 Dogwood St, San Francisco, CA 94016</td>\n",
              "    </tr>\n",
              "    <tr>\n",
              "      <th>11683</th>\n",
              "      <td>259355</td>\n",
              "      <td>iPhone</td>\n",
              "      <td>1</td>\n",
              "      <td>700</td>\n",
              "      <td>09/23/19 07:39</td>\n",
              "      <td>220 12th St, San Francisco, CA 94016</td>\n",
              "    </tr>\n",
              "    <tr>\n",
              "      <th>11684</th>\n",
              "      <td>259356</td>\n",
              "      <td>34in Ultrawide Monitor</td>\n",
              "      <td>1</td>\n",
              "      <td>379.99</td>\n",
              "      <td>09/19/19 17:30</td>\n",
              "      <td>511 Forest St, San Francisco, CA 94016</td>\n",
              "    </tr>\n",
              "    <tr>\n",
              "      <th>11685</th>\n",
              "      <td>259357</td>\n",
              "      <td>USB-C Charging Cable</td>\n",
              "      <td>1</td>\n",
              "      <td>11.95</td>\n",
              "      <td>09/30/19 00:18</td>\n",
              "      <td>250 Meadow St, San Francisco, CA 94016</td>\n",
              "    </tr>\n",
              "  </tbody>\n",
              "</table>\n",
              "<p>186305 rows × 6 columns</p>\n",
              "</div>"
            ],
            "text/plain": [
              "      Order ID  ...                         Purchase Address\n",
              "0       236670  ...         359 Spruce St, Seattle, WA 98101\n",
              "1       236671  ...           492 Ridge St, Dallas, TX 75001\n",
              "2       236672  ...           149 7th St, Portland, OR 97035\n",
              "3       236673  ...        631 2nd St, Los Angeles, CA 90001\n",
              "4       236674  ...     736 14th St, New York City, NY 10001\n",
              "...        ...  ...                                      ...\n",
              "11681   259353  ...   840 Highland St, Los Angeles, CA 90001\n",
              "11682   259354  ...  216 Dogwood St, San Francisco, CA 94016\n",
              "11683   259355  ...     220 12th St, San Francisco, CA 94016\n",
              "11684   259356  ...   511 Forest St, San Francisco, CA 94016\n",
              "11685   259357  ...   250 Meadow St, San Francisco, CA 94016\n",
              "\n",
              "[186305 rows x 6 columns]"
            ]
          },
          "metadata": {},
          "execution_count": 14
        }
      ]
    },
    {
      "cell_type": "code",
      "metadata": {
        "colab": {
          "base_uri": "https://localhost:8080/"
        },
        "id": "vRrMtHgasDt0",
        "outputId": "0be69c4b-5786-4f04-c631-d8b578ecffb0"
      },
      "source": [
        "df.columns"
      ],
      "execution_count": null,
      "outputs": [
        {
          "output_type": "execute_result",
          "data": {
            "text/plain": [
              "Index(['Order ID', 'Product', 'Quantity Ordered', 'Price Each', 'Order Date',\n",
              "       'Purchase Address'],\n",
              "      dtype='object')"
            ]
          },
          "metadata": {},
          "execution_count": 15
        }
      ]
    },
    {
      "cell_type": "code",
      "metadata": {
        "id": "wRDGsJYW1R8o"
      },
      "source": [
        "df.rename(columns = {'Order Date':'Order_Date'}, inplace = True)"
      ],
      "execution_count": null,
      "outputs": []
    },
    {
      "cell_type": "code",
      "metadata": {
        "id": "WmGtuvvEOct5"
      },
      "source": [
        "df['Order_Date']=pd.to_datetime(df['Order_Date'], dayfirst=True, errors='coerce')"
      ],
      "execution_count": null,
      "outputs": []
    },
    {
      "cell_type": "code",
      "metadata": {
        "id": "BuBH0iyLOdNo"
      },
      "source": [
        "df.set_index('Order_Date',inplace=True)"
      ],
      "execution_count": null,
      "outputs": []
    },
    {
      "cell_type": "code",
      "metadata": {
        "id": "DZuEy6FTuBug"
      },
      "source": [
        "df.to_csv('sales_data.csv')"
      ],
      "execution_count": null,
      "outputs": []
    },
    {
      "cell_type": "code",
      "metadata": {
        "id": "LXf91RPcfhE9"
      },
      "source": [
        "#df=pd.read_csv('sales_data.csv',na_values=['Order ID','NaT'])"
      ],
      "execution_count": null,
      "outputs": []
    },
    {
      "cell_type": "code",
      "metadata": {
        "colab": {
          "base_uri": "https://localhost:8080/"
        },
        "id": "Ylvdkp58ulCn",
        "outputId": "cab99213-ad1d-416a-cb04-046b543e47e1"
      },
      "source": [
        "df.shape"
      ],
      "execution_count": null,
      "outputs": [
        {
          "output_type": "execute_result",
          "data": {
            "text/plain": [
              "(186305, 5)"
            ]
          },
          "metadata": {},
          "execution_count": 21
        }
      ]
    },
    {
      "cell_type": "code",
      "metadata": {
        "id": "Uq1LfQohurxo"
      },
      "source": [
        "df.sort_values(by='Order_Date',inplace=True)"
      ],
      "execution_count": null,
      "outputs": []
    },
    {
      "cell_type": "code",
      "metadata": {
        "id": "PQPT5c35wCih"
      },
      "source": [
        "df.dropna(inplace=True)"
      ],
      "execution_count": null,
      "outputs": []
    },
    {
      "cell_type": "code",
      "metadata": {
        "colab": {
          "base_uri": "https://localhost:8080/",
          "height": 450
        },
        "id": "IDAbDNdCmi3R",
        "outputId": "6d1960de-7018-4471-ef24-30416b65620e"
      },
      "source": [
        "df"
      ],
      "execution_count": null,
      "outputs": [
        {
          "output_type": "execute_result",
          "data": {
            "text/html": [
              "<div>\n",
              "<style scoped>\n",
              "    .dataframe tbody tr th:only-of-type {\n",
              "        vertical-align: middle;\n",
              "    }\n",
              "\n",
              "    .dataframe tbody tr th {\n",
              "        vertical-align: top;\n",
              "    }\n",
              "\n",
              "    .dataframe thead th {\n",
              "        text-align: right;\n",
              "    }\n",
              "</style>\n",
              "<table border=\"1\" class=\"dataframe\">\n",
              "  <thead>\n",
              "    <tr style=\"text-align: right;\">\n",
              "      <th></th>\n",
              "      <th>Order ID</th>\n",
              "      <th>Product</th>\n",
              "      <th>Quantity Ordered</th>\n",
              "      <th>Price Each</th>\n",
              "      <th>Purchase Address</th>\n",
              "    </tr>\n",
              "    <tr>\n",
              "      <th>Order_Date</th>\n",
              "      <th></th>\n",
              "      <th></th>\n",
              "      <th></th>\n",
              "      <th></th>\n",
              "      <th></th>\n",
              "    </tr>\n",
              "  </thead>\n",
              "  <tbody>\n",
              "    <tr>\n",
              "      <th>2019-01-01 03:07:00</th>\n",
              "      <td>147268</td>\n",
              "      <td>Wired Headphones</td>\n",
              "      <td>1</td>\n",
              "      <td>11.99</td>\n",
              "      <td>9 Lake St, New York City, NY 10001</td>\n",
              "    </tr>\n",
              "    <tr>\n",
              "      <th>2019-01-01 03:40:00</th>\n",
              "      <td>148041</td>\n",
              "      <td>USB-C Charging Cable</td>\n",
              "      <td>1</td>\n",
              "      <td>11.95</td>\n",
              "      <td>760 Church St, San Francisco, CA 94016</td>\n",
              "    </tr>\n",
              "    <tr>\n",
              "      <th>2019-01-01 04:56:00</th>\n",
              "      <td>149343</td>\n",
              "      <td>Apple Airpods Headphones</td>\n",
              "      <td>1</td>\n",
              "      <td>150</td>\n",
              "      <td>735 5th St, New York City, NY 10001</td>\n",
              "    </tr>\n",
              "    <tr>\n",
              "      <th>2019-01-01 05:53:00</th>\n",
              "      <td>149964</td>\n",
              "      <td>AAA Batteries (4-pack)</td>\n",
              "      <td>1</td>\n",
              "      <td>2.99</td>\n",
              "      <td>75 Jackson St, Dallas, TX 75001</td>\n",
              "    </tr>\n",
              "    <tr>\n",
              "      <th>2019-01-01 06:03:00</th>\n",
              "      <td>149350</td>\n",
              "      <td>USB-C Charging Cable</td>\n",
              "      <td>2</td>\n",
              "      <td>11.95</td>\n",
              "      <td>943 2nd St, Atlanta, GA 30301</td>\n",
              "    </tr>\n",
              "    <tr>\n",
              "      <th>...</th>\n",
              "      <td>...</td>\n",
              "      <td>...</td>\n",
              "      <td>...</td>\n",
              "      <td>...</td>\n",
              "      <td>...</td>\n",
              "    </tr>\n",
              "    <tr>\n",
              "      <th>2020-01-01 04:13:00</th>\n",
              "      <td>304165</td>\n",
              "      <td>AAA Batteries (4-pack)</td>\n",
              "      <td>1</td>\n",
              "      <td>2.99</td>\n",
              "      <td>825 Adams St, Portland, OR 97035</td>\n",
              "    </tr>\n",
              "    <tr>\n",
              "      <th>2020-01-01 04:21:00</th>\n",
              "      <td>299125</td>\n",
              "      <td>USB-C Charging Cable</td>\n",
              "      <td>1</td>\n",
              "      <td>11.95</td>\n",
              "      <td>754 Hickory St, New York City, NY 10001</td>\n",
              "    </tr>\n",
              "    <tr>\n",
              "      <th>2020-01-01 04:54:00</th>\n",
              "      <td>305840</td>\n",
              "      <td>Bose SoundSport Headphones</td>\n",
              "      <td>1</td>\n",
              "      <td>99.99</td>\n",
              "      <td>784 River St, San Francisco, CA 94016</td>\n",
              "    </tr>\n",
              "    <tr>\n",
              "      <th>2020-01-01 05:13:00</th>\n",
              "      <td>300519</td>\n",
              "      <td>Lightning Charging Cable</td>\n",
              "      <td>1</td>\n",
              "      <td>14.95</td>\n",
              "      <td>657 Spruce St, New York City, NY 10001</td>\n",
              "    </tr>\n",
              "    <tr>\n",
              "      <th>2020-01-01 05:13:00</th>\n",
              "      <td>300519</td>\n",
              "      <td>Bose SoundSport Headphones</td>\n",
              "      <td>1</td>\n",
              "      <td>99.99</td>\n",
              "      <td>657 Spruce St, New York City, NY 10001</td>\n",
              "    </tr>\n",
              "  </tbody>\n",
              "</table>\n",
              "<p>185950 rows × 5 columns</p>\n",
              "</div>"
            ],
            "text/plain": [
              "                    Order ID  ...                         Purchase Address\n",
              "Order_Date                    ...                                         \n",
              "2019-01-01 03:07:00   147268  ...       9 Lake St, New York City, NY 10001\n",
              "2019-01-01 03:40:00   148041  ...   760 Church St, San Francisco, CA 94016\n",
              "2019-01-01 04:56:00   149343  ...      735 5th St, New York City, NY 10001\n",
              "2019-01-01 05:53:00   149964  ...          75 Jackson St, Dallas, TX 75001\n",
              "2019-01-01 06:03:00   149350  ...            943 2nd St, Atlanta, GA 30301\n",
              "...                      ...  ...                                      ...\n",
              "2020-01-01 04:13:00   304165  ...         825 Adams St, Portland, OR 97035\n",
              "2020-01-01 04:21:00   299125  ...  754 Hickory St, New York City, NY 10001\n",
              "2020-01-01 04:54:00   305840  ...    784 River St, San Francisco, CA 94016\n",
              "2020-01-01 05:13:00   300519  ...   657 Spruce St, New York City, NY 10001\n",
              "2020-01-01 05:13:00   300519  ...   657 Spruce St, New York City, NY 10001\n",
              "\n",
              "[185950 rows x 5 columns]"
            ]
          },
          "metadata": {},
          "execution_count": 33
        }
      ]
    },
    {
      "cell_type": "code",
      "metadata": {
        "id": "HNbOP68Wl0dj"
      },
      "source": [
        "df.replace('Order ID',np.nan,inplace=True)"
      ],
      "execution_count": null,
      "outputs": []
    },
    {
      "cell_type": "code",
      "metadata": {
        "id": "gB8VSrGRmqk8"
      },
      "source": [
        "df.dropna(inplace=True)"
      ],
      "execution_count": 4,
      "outputs": []
    },
    {
      "cell_type": "code",
      "metadata": {
        "id": "NoGiIe5kwRpJ"
      },
      "source": [
        "df['Order ID']=pd.to_numeric(df['Order ID'])\n",
        "df['Quantity Ordered']=pd.to_numeric(df['Quantity Ordered'])\n",
        "df['Price Each']=pd.to_numeric(df['Price Each'])"
      ],
      "execution_count": null,
      "outputs": []
    },
    {
      "cell_type": "code",
      "metadata": {
        "colab": {
          "base_uri": "https://localhost:8080/"
        },
        "id": "6s0I8LjUm8Qe",
        "outputId": "d2a7d40c-affb-419b-d31d-28cd68e2af9f"
      },
      "source": [
        "df.info()"
      ],
      "execution_count": null,
      "outputs": [
        {
          "output_type": "stream",
          "name": "stdout",
          "text": [
            "<class 'pandas.core.frame.DataFrame'>\n",
            "DatetimeIndex: 185950 entries, 2019-01-01 03:07:00 to 2020-01-01 05:13:00\n",
            "Data columns (total 6 columns):\n",
            " #   Column            Non-Null Count   Dtype  \n",
            "---  ------            --------------   -----  \n",
            " 0   Order ID          185950 non-null  int64  \n",
            " 1   Product           185950 non-null  object \n",
            " 2   Quantity Ordered  185950 non-null  int64  \n",
            " 3   Price Each        185950 non-null  float64\n",
            " 4   Purchase Address  185950 non-null  object \n",
            " 5   Total_Price       185950 non-null  float64\n",
            "dtypes: float64(2), int64(2), object(2)\n",
            "memory usage: 14.9+ MB\n"
          ]
        }
      ]
    },
    {
      "cell_type": "code",
      "metadata": {
        "id": "HGqbQGn-m8-R"
      },
      "source": [
        "df.to_csv('sales_data.csv')"
      ],
      "execution_count": null,
      "outputs": []
    },
    {
      "cell_type": "code",
      "metadata": {
        "id": "GXjgMqaUcCUd"
      },
      "source": [
        "##drshbrdyutdu\n",
        "df=pd.read_csv('sales_data.csv')"
      ],
      "execution_count": 2,
      "outputs": []
    },
    {
      "cell_type": "code",
      "metadata": {
        "id": "B9RCjAmC4AK8"
      },
      "source": [
        "df['Order_Date']=pd.to_datetime(df['Order_Date'], dayfirst=True, errors='coerce')"
      ],
      "execution_count": 3,
      "outputs": []
    },
    {
      "cell_type": "code",
      "metadata": {
        "colab": {
          "base_uri": "https://localhost:8080/"
        },
        "id": "tvcW6bKhe_JO",
        "outputId": "7f250b8f-ad5a-4635-b424-e2c6dfa4d481"
      },
      "source": [
        "df.info()"
      ],
      "execution_count": 5,
      "outputs": [
        {
          "output_type": "stream",
          "name": "stdout",
          "text": [
            "<class 'pandas.core.frame.DataFrame'>\n",
            "Int64Index: 124658 entries, 0 to 124657\n",
            "Data columns (total 6 columns):\n",
            " #   Column            Non-Null Count   Dtype         \n",
            "---  ------            --------------   -----         \n",
            " 0   Order_Date        124658 non-null  datetime64[ns]\n",
            " 1   Order ID          124658 non-null  float64       \n",
            " 2   Product           124658 non-null  object        \n",
            " 3   Quantity Ordered  124658 non-null  float64       \n",
            " 4   Price Each        124658 non-null  float64       \n",
            " 5   Purchase Address  124658 non-null  object        \n",
            "dtypes: datetime64[ns](1), float64(3), object(2)\n",
            "memory usage: 6.7+ MB\n"
          ]
        }
      ]
    },
    {
      "cell_type": "code",
      "metadata": {
        "id": "ilSwFvB8o5f0"
      },
      "source": [
        "df['Total_Price']=df['Quantity Ordered']*df['Price Each']"
      ],
      "execution_count": null,
      "outputs": []
    },
    {
      "cell_type": "code",
      "metadata": {
        "id": "C8eoN8iO39Mf"
      },
      "source": [
        "df.set_index('Order_Date',inplace=True)"
      ],
      "execution_count": null,
      "outputs": []
    },
    {
      "cell_type": "code",
      "metadata": {
        "id": "wTDTI_z8nyA_"
      },
      "source": [
        "GB=df.groupby(df.index.month).sum()"
      ],
      "execution_count": null,
      "outputs": []
    },
    {
      "cell_type": "code",
      "metadata": {
        "id": "Esxj_Bt8qc_n"
      },
      "source": [
        "GB['month']=GB.index"
      ],
      "execution_count": null,
      "outputs": []
    },
    {
      "cell_type": "code",
      "metadata": {
        "colab": {
          "base_uri": "https://localhost:8080/",
          "height": 310
        },
        "id": "pyzxhOY5ot3Z",
        "outputId": "ae793bed-efd8-4326-b081-aab5f78fc448"
      },
      "source": [
        "GB.plot('month','Total_Price',kind='bar')"
      ],
      "execution_count": null,
      "outputs": [
        {
          "output_type": "execute_result",
          "data": {
            "text/plain": [
              "<matplotlib.axes._subplots.AxesSubplot at 0x7f1da8964510>"
            ]
          },
          "metadata": {},
          "execution_count": 60
        },
        {
          "output_type": "display_data",
          "data": {
            "image/png": "[encoded data removed]",
            "text/plain": [
              "<Figure size 432x288 with 1 Axes>"
            ]
          },
          "metadata": {
            "needs_background": "light"
          }
        }
      ]
    },
    {
      "cell_type": "code",
      "metadata": {
        "colab": {
          "base_uri": "https://localhost:8080/",
          "height": 111
        },
        "id": "fX5C9f_cq-_a",
        "outputId": "e7e2089b-b2ec-4759-b782-5d83a27db0eb"
      },
      "source": [
        "GB[GB['month']==12]"
      ],
      "execution_count": null,
      "outputs": [
        {
          "output_type": "execute_result",
          "data": {
            "text/html": [
              "<div>\n",
              "<style scoped>\n",
              "    .dataframe tbody tr th:only-of-type {\n",
              "        vertical-align: middle;\n",
              "    }\n",
              "\n",
              "    .dataframe tbody tr th {\n",
              "        vertical-align: top;\n",
              "    }\n",
              "\n",
              "    .dataframe thead th {\n",
              "        text-align: right;\n",
              "    }\n",
              "</style>\n",
              "<table border=\"1\" class=\"dataframe\">\n",
              "  <thead>\n",
              "    <tr style=\"text-align: right;\">\n",
              "      <th></th>\n",
              "      <th>Order ID</th>\n",
              "      <th>Quantity Ordered</th>\n",
              "      <th>Price Each</th>\n",
              "      <th>Total_Price</th>\n",
              "      <th>month</th>\n",
              "    </tr>\n",
              "    <tr>\n",
              "      <th>Order_Date</th>\n",
              "      <th></th>\n",
              "      <th></th>\n",
              "      <th></th>\n",
              "      <th></th>\n",
              "      <th></th>\n",
              "    </tr>\n",
              "  </thead>\n",
              "  <tbody>\n",
              "    <tr>\n",
              "      <th>12</th>\n",
              "      <td>6164049078</td>\n",
              "      <td>24441</td>\n",
              "      <td>3.902768e+06</td>\n",
              "      <td>3.925407e+06</td>\n",
              "      <td>12</td>\n",
              "    </tr>\n",
              "  </tbody>\n",
              "</table>\n",
              "</div>"
            ],
            "text/plain": [
              "              Order ID  Quantity Ordered    Price Each   Total_Price  month\n",
              "Order_Date                                                                 \n",
              "12          6164049078             24441  3.902768e+06  3.925407e+06     12"
            ]
          },
          "metadata": {},
          "execution_count": 59
        }
      ]
    },
    {
      "cell_type": "code",
      "metadata": {
        "id": "xM05s3PvsE2B"
      },
      "source": [
        "df['city']=df['Purchase Address'].str.split(',',expand=True)[1]"
      ],
      "execution_count": null,
      "outputs": []
    },
    {
      "cell_type": "code",
      "metadata": {
        "colab": {
          "base_uri": "https://localhost:8080/",
          "height": 423
        },
        "id": "3GNz6AgJpjhy",
        "outputId": "3f2ca71b-3ff7-4379-8262-7fa86882f5e7"
      },
      "source": [
        "df"
      ],
      "execution_count": null,
      "outputs": [
        {
          "output_type": "execute_result",
          "data": {
            "text/html": [
              "<div>\n",
              "<style scoped>\n",
              "    .dataframe tbody tr th:only-of-type {\n",
              "        vertical-align: middle;\n",
              "    }\n",
              "\n",
              "    .dataframe tbody tr th {\n",
              "        vertical-align: top;\n",
              "    }\n",
              "\n",
              "    .dataframe thead th {\n",
              "        text-align: right;\n",
              "    }\n",
              "</style>\n",
              "<table border=\"1\" class=\"dataframe\">\n",
              "  <thead>\n",
              "    <tr style=\"text-align: right;\">\n",
              "      <th></th>\n",
              "      <th>Order_Date</th>\n",
              "      <th>Order ID</th>\n",
              "      <th>Product</th>\n",
              "      <th>Quantity Ordered</th>\n",
              "      <th>Price Each</th>\n",
              "      <th>Purchase Address</th>\n",
              "      <th>city</th>\n",
              "    </tr>\n",
              "  </thead>\n",
              "  <tbody>\n",
              "    <tr>\n",
              "      <th>0</th>\n",
              "      <td>2019-01-01 03:07:00</td>\n",
              "      <td>147268</td>\n",
              "      <td>Wired Headphones</td>\n",
              "      <td>1.0</td>\n",
              "      <td>11.99</td>\n",
              "      <td>9 Lake St, New York City, NY 10001</td>\n",
              "      <td>New York City</td>\n",
              "    </tr>\n",
              "    <tr>\n",
              "      <th>1</th>\n",
              "      <td>2019-01-01 03:40:00</td>\n",
              "      <td>148041</td>\n",
              "      <td>USB-C Charging Cable</td>\n",
              "      <td>1.0</td>\n",
              "      <td>11.95</td>\n",
              "      <td>760 Church St, San Francisco, CA 94016</td>\n",
              "      <td>San Francisco</td>\n",
              "    </tr>\n",
              "    <tr>\n",
              "      <th>2</th>\n",
              "      <td>2019-01-01 04:56:00</td>\n",
              "      <td>149343</td>\n",
              "      <td>Apple Airpods Headphones</td>\n",
              "      <td>1.0</td>\n",
              "      <td>150.00</td>\n",
              "      <td>735 5th St, New York City, NY 10001</td>\n",
              "      <td>New York City</td>\n",
              "    </tr>\n",
              "    <tr>\n",
              "      <th>3</th>\n",
              "      <td>2019-01-01 05:53:00</td>\n",
              "      <td>149964</td>\n",
              "      <td>AAA Batteries (4-pack)</td>\n",
              "      <td>1.0</td>\n",
              "      <td>2.99</td>\n",
              "      <td>75 Jackson St, Dallas, TX 75001</td>\n",
              "      <td>Dallas</td>\n",
              "    </tr>\n",
              "    <tr>\n",
              "      <th>4</th>\n",
              "      <td>2019-01-01 06:03:00</td>\n",
              "      <td>149350</td>\n",
              "      <td>USB-C Charging Cable</td>\n",
              "      <td>2.0</td>\n",
              "      <td>11.95</td>\n",
              "      <td>943 2nd St, Atlanta, GA 30301</td>\n",
              "      <td>Atlanta</td>\n",
              "    </tr>\n",
              "    <tr>\n",
              "      <th>...</th>\n",
              "      <td>...</td>\n",
              "      <td>...</td>\n",
              "      <td>...</td>\n",
              "      <td>...</td>\n",
              "      <td>...</td>\n",
              "      <td>...</td>\n",
              "      <td>...</td>\n",
              "    </tr>\n",
              "    <tr>\n",
              "      <th>147310</th>\n",
              "      <td>2019-10-31 13:21:00</td>\n",
              "      <td>263008</td>\n",
              "      <td>ThinkPad Laptop</td>\n",
              "      <td>1.0</td>\n",
              "      <td>999.99</td>\n",
              "      <td>263 Maple St, New York City, NY 10001</td>\n",
              "      <td>New York City</td>\n",
              "    </tr>\n",
              "    <tr>\n",
              "      <th>147311</th>\n",
              "      <td>2019-10-31 13:23:00</td>\n",
              "      <td>277253</td>\n",
              "      <td>27in 4K Gaming Monitor</td>\n",
              "      <td>1.0</td>\n",
              "      <td>389.99</td>\n",
              "      <td>991 Pine St, Dallas, TX 75001</td>\n",
              "      <td>Dallas</td>\n",
              "    </tr>\n",
              "    <tr>\n",
              "      <th>147312</th>\n",
              "      <td>2019-10-31 13:23:00</td>\n",
              "      <td>271754</td>\n",
              "      <td>Apple Airpods Headphones</td>\n",
              "      <td>1.0</td>\n",
              "      <td>150.00</td>\n",
              "      <td>569 Ridge St, Los Angeles, CA 90001</td>\n",
              "      <td>Los Angeles</td>\n",
              "    </tr>\n",
              "    <tr>\n",
              "      <th>147313</th>\n",
              "      <td>2019-10-31 13:26:00</td>\n",
              "      <td>272862</td>\n",
              "      <td>USB-C Charging Cable</td>\n",
              "      <td>1.0</td>\n",
              "      <td>11.95</td>\n",
              "      <td>42 9th St, San Francisco, CA 94016</td>\n",
              "      <td>San Francisco</td>\n",
              "    </tr>\n",
              "    <tr>\n",
              "      <th>147314</th>\n",
              "      <td>2019-10-31 13:27:00</td>\n",
              "      <td>27</td>\n",
              "      <td>NaN</td>\n",
              "      <td>NaN</td>\n",
              "      <td>NaN</td>\n",
              "      <td>NaN</td>\n",
              "      <td>NaN</td>\n",
              "    </tr>\n",
              "  </tbody>\n",
              "</table>\n",
              "<p>147315 rows × 7 columns</p>\n",
              "</div>"
            ],
            "text/plain": [
              "                 Order_Date  ...            city\n",
              "0       2019-01-01 03:07:00  ...   New York City\n",
              "1       2019-01-01 03:40:00  ...   San Francisco\n",
              "2       2019-01-01 04:56:00  ...   New York City\n",
              "3       2019-01-01 05:53:00  ...          Dallas\n",
              "4       2019-01-01 06:03:00  ...         Atlanta\n",
              "...                     ...  ...             ...\n",
              "147310  2019-10-31 13:21:00  ...   New York City\n",
              "147311  2019-10-31 13:23:00  ...          Dallas\n",
              "147312  2019-10-31 13:23:00  ...     Los Angeles\n",
              "147313  2019-10-31 13:26:00  ...   San Francisco\n",
              "147314  2019-10-31 13:27:00  ...             NaN\n",
              "\n",
              "[147315 rows x 7 columns]"
            ]
          },
          "metadata": {},
          "execution_count": 11
        }
      ]
    },
    {
      "cell_type": "code",
      "metadata": {
        "id": "wLbWBFPuq02-"
      },
      "source": [
        "df.dropna(inplace=True)"
      ],
      "execution_count": null,
      "outputs": []
    },
    {
      "cell_type": "code",
      "metadata": {
        "id": "Em7arX3mq5Hi"
      },
      "source": [
        "GB2=df.groupby('city').sum().reset_index()"
      ],
      "execution_count": null,
      "outputs": []
    },
    {
      "cell_type": "code",
      "metadata": {
        "colab": {
          "base_uri": "https://localhost:8080/",
          "height": 370
        },
        "id": "UHoC6P8Dt5Ch",
        "outputId": "3bbaccf4-9007-45a6-80fa-6adead1a2078"
      },
      "source": [
        "GB2.plot('city','Total_Price',kind='bar')"
      ],
      "execution_count": null,
      "outputs": [
        {
          "output_type": "execute_result",
          "data": {
            "text/plain": [
              "<matplotlib.axes._subplots.AxesSubplot at 0x7f5ab8a99390>"
            ]
          },
          "metadata": {},
          "execution_count": 28
        },
        {
          "output_type": "display_data",
          "data": {
            "image/png": "[encoded data removed]",
            "text/plain": [
              "<Figure size 432x288 with 1 Axes>"
            ]
          },
          "metadata": {
            "needs_background": "light"
          }
        }
      ]
    },
    {
      "cell_type": "code",
      "metadata": {
        "colab": {
          "base_uri": "https://localhost:8080/"
        },
        "id": "jjrusashvIf5",
        "outputId": "487eefd3-ca60-4a83-f5aa-bb08c6e1892b"
      },
      "source": [
        "len(df.city.unique())"
      ],
      "execution_count": null,
      "outputs": [
        {
          "output_type": "execute_result",
          "data": {
            "text/plain": [
              "9"
            ]
          },
          "metadata": {},
          "execution_count": 24
        }
      ]
    },
    {
      "cell_type": "code",
      "metadata": {
        "id": "752EUigdwS9J"
      },
      "source": [
        "GB3=df.groupby(df.index.hour).count()"
      ],
      "execution_count": null,
      "outputs": []
    },
    {
      "cell_type": "code",
      "metadata": {
        "colab": {
          "base_uri": "https://localhost:8080/",
          "height": 802
        },
        "id": "N65Fy6bd4lYx",
        "outputId": "b261f2ae-267f-40a3-b325-80b3608cb76a"
      },
      "source": [
        "GB3.reset_index()"
      ],
      "execution_count": null,
      "outputs": [
        {
          "output_type": "execute_result",
          "data": {
            "text/html": [
              "<div>\n",
              "<style scoped>\n",
              "    .dataframe tbody tr th:only-of-type {\n",
              "        vertical-align: middle;\n",
              "    }\n",
              "\n",
              "    .dataframe tbody tr th {\n",
              "        vertical-align: top;\n",
              "    }\n",
              "\n",
              "    .dataframe thead th {\n",
              "        text-align: right;\n",
              "    }\n",
              "</style>\n",
              "<table border=\"1\" class=\"dataframe\">\n",
              "  <thead>\n",
              "    <tr style=\"text-align: right;\">\n",
              "      <th></th>\n",
              "      <th>Order_Date</th>\n",
              "      <th>Order ID</th>\n",
              "      <th>Product</th>\n",
              "      <th>Quantity Ordered</th>\n",
              "      <th>Price Each</th>\n",
              "      <th>Purchase Address</th>\n",
              "      <th>Total_Price</th>\n",
              "    </tr>\n",
              "  </thead>\n",
              "  <tbody>\n",
              "    <tr>\n",
              "      <th>0</th>\n",
              "      <td>0</td>\n",
              "      <td>3910</td>\n",
              "      <td>3910</td>\n",
              "      <td>3910</td>\n",
              "      <td>3910</td>\n",
              "      <td>3910</td>\n",
              "      <td>3910</td>\n",
              "    </tr>\n",
              "    <tr>\n",
              "      <th>1</th>\n",
              "      <td>1</td>\n",
              "      <td>2350</td>\n",
              "      <td>2350</td>\n",
              "      <td>2350</td>\n",
              "      <td>2350</td>\n",
              "      <td>2350</td>\n",
              "      <td>2350</td>\n",
              "    </tr>\n",
              "    <tr>\n",
              "      <th>2</th>\n",
              "      <td>2</td>\n",
              "      <td>1243</td>\n",
              "      <td>1243</td>\n",
              "      <td>1243</td>\n",
              "      <td>1243</td>\n",
              "      <td>1243</td>\n",
              "      <td>1243</td>\n",
              "    </tr>\n",
              "    <tr>\n",
              "      <th>3</th>\n",
              "      <td>3</td>\n",
              "      <td>831</td>\n",
              "      <td>831</td>\n",
              "      <td>831</td>\n",
              "      <td>831</td>\n",
              "      <td>831</td>\n",
              "      <td>831</td>\n",
              "    </tr>\n",
              "    <tr>\n",
              "      <th>4</th>\n",
              "      <td>4</td>\n",
              "      <td>854</td>\n",
              "      <td>854</td>\n",
              "      <td>854</td>\n",
              "      <td>854</td>\n",
              "      <td>854</td>\n",
              "      <td>854</td>\n",
              "    </tr>\n",
              "    <tr>\n",
              "      <th>5</th>\n",
              "      <td>5</td>\n",
              "      <td>1321</td>\n",
              "      <td>1321</td>\n",
              "      <td>1321</td>\n",
              "      <td>1321</td>\n",
              "      <td>1321</td>\n",
              "      <td>1321</td>\n",
              "    </tr>\n",
              "    <tr>\n",
              "      <th>6</th>\n",
              "      <td>6</td>\n",
              "      <td>2482</td>\n",
              "      <td>2482</td>\n",
              "      <td>2482</td>\n",
              "      <td>2482</td>\n",
              "      <td>2482</td>\n",
              "      <td>2482</td>\n",
              "    </tr>\n",
              "    <tr>\n",
              "      <th>7</th>\n",
              "      <td>7</td>\n",
              "      <td>4011</td>\n",
              "      <td>4011</td>\n",
              "      <td>4011</td>\n",
              "      <td>4011</td>\n",
              "      <td>4011</td>\n",
              "      <td>4011</td>\n",
              "    </tr>\n",
              "    <tr>\n",
              "      <th>8</th>\n",
              "      <td>8</td>\n",
              "      <td>6256</td>\n",
              "      <td>6256</td>\n",
              "      <td>6256</td>\n",
              "      <td>6256</td>\n",
              "      <td>6256</td>\n",
              "      <td>6256</td>\n",
              "    </tr>\n",
              "    <tr>\n",
              "      <th>9</th>\n",
              "      <td>9</td>\n",
              "      <td>8748</td>\n",
              "      <td>8748</td>\n",
              "      <td>8748</td>\n",
              "      <td>8748</td>\n",
              "      <td>8748</td>\n",
              "      <td>8748</td>\n",
              "    </tr>\n",
              "    <tr>\n",
              "      <th>10</th>\n",
              "      <td>10</td>\n",
              "      <td>10944</td>\n",
              "      <td>10944</td>\n",
              "      <td>10944</td>\n",
              "      <td>10944</td>\n",
              "      <td>10944</td>\n",
              "      <td>10944</td>\n",
              "    </tr>\n",
              "    <tr>\n",
              "      <th>11</th>\n",
              "      <td>11</td>\n",
              "      <td>12411</td>\n",
              "      <td>12411</td>\n",
              "      <td>12411</td>\n",
              "      <td>12411</td>\n",
              "      <td>12411</td>\n",
              "      <td>12411</td>\n",
              "    </tr>\n",
              "    <tr>\n",
              "      <th>12</th>\n",
              "      <td>12</td>\n",
              "      <td>12587</td>\n",
              "      <td>12587</td>\n",
              "      <td>12587</td>\n",
              "      <td>12587</td>\n",
              "      <td>12587</td>\n",
              "      <td>12587</td>\n",
              "    </tr>\n",
              "    <tr>\n",
              "      <th>13</th>\n",
              "      <td>13</td>\n",
              "      <td>12129</td>\n",
              "      <td>12129</td>\n",
              "      <td>12129</td>\n",
              "      <td>12129</td>\n",
              "      <td>12129</td>\n",
              "      <td>12129</td>\n",
              "    </tr>\n",
              "    <tr>\n",
              "      <th>14</th>\n",
              "      <td>14</td>\n",
              "      <td>10984</td>\n",
              "      <td>10984</td>\n",
              "      <td>10984</td>\n",
              "      <td>10984</td>\n",
              "      <td>10984</td>\n",
              "      <td>10984</td>\n",
              "    </tr>\n",
              "    <tr>\n",
              "      <th>15</th>\n",
              "      <td>15</td>\n",
              "      <td>10175</td>\n",
              "      <td>10175</td>\n",
              "      <td>10175</td>\n",
              "      <td>10175</td>\n",
              "      <td>10175</td>\n",
              "      <td>10175</td>\n",
              "    </tr>\n",
              "    <tr>\n",
              "      <th>16</th>\n",
              "      <td>16</td>\n",
              "      <td>10384</td>\n",
              "      <td>10384</td>\n",
              "      <td>10384</td>\n",
              "      <td>10384</td>\n",
              "      <td>10384</td>\n",
              "      <td>10384</td>\n",
              "    </tr>\n",
              "    <tr>\n",
              "      <th>17</th>\n",
              "      <td>17</td>\n",
              "      <td>10899</td>\n",
              "      <td>10899</td>\n",
              "      <td>10899</td>\n",
              "      <td>10899</td>\n",
              "      <td>10899</td>\n",
              "      <td>10899</td>\n",
              "    </tr>\n",
              "    <tr>\n",
              "      <th>18</th>\n",
              "      <td>18</td>\n",
              "      <td>12280</td>\n",
              "      <td>12280</td>\n",
              "      <td>12280</td>\n",
              "      <td>12280</td>\n",
              "      <td>12280</td>\n",
              "      <td>12280</td>\n",
              "    </tr>\n",
              "    <tr>\n",
              "      <th>19</th>\n",
              "      <td>19</td>\n",
              "      <td>12905</td>\n",
              "      <td>12905</td>\n",
              "      <td>12905</td>\n",
              "      <td>12905</td>\n",
              "      <td>12905</td>\n",
              "      <td>12905</td>\n",
              "    </tr>\n",
              "    <tr>\n",
              "      <th>20</th>\n",
              "      <td>20</td>\n",
              "      <td>12228</td>\n",
              "      <td>12228</td>\n",
              "      <td>12228</td>\n",
              "      <td>12228</td>\n",
              "      <td>12228</td>\n",
              "      <td>12228</td>\n",
              "    </tr>\n",
              "    <tr>\n",
              "      <th>21</th>\n",
              "      <td>21</td>\n",
              "      <td>10921</td>\n",
              "      <td>10921</td>\n",
              "      <td>10921</td>\n",
              "      <td>10921</td>\n",
              "      <td>10921</td>\n",
              "      <td>10921</td>\n",
              "    </tr>\n",
              "    <tr>\n",
              "      <th>22</th>\n",
              "      <td>22</td>\n",
              "      <td>8822</td>\n",
              "      <td>8822</td>\n",
              "      <td>8822</td>\n",
              "      <td>8822</td>\n",
              "      <td>8822</td>\n",
              "      <td>8822</td>\n",
              "    </tr>\n",
              "    <tr>\n",
              "      <th>23</th>\n",
              "      <td>23</td>\n",
              "      <td>6275</td>\n",
              "      <td>6275</td>\n",
              "      <td>6275</td>\n",
              "      <td>6275</td>\n",
              "      <td>6275</td>\n",
              "      <td>6275</td>\n",
              "    </tr>\n",
              "  </tbody>\n",
              "</table>\n",
              "</div>"
            ],
            "text/plain": [
              "    Order_Date  Order ID  Product  ...  Price Each  Purchase Address  Total_Price\n",
              "0            0      3910     3910  ...        3910              3910         3910\n",
              "1            1      2350     2350  ...        2350              2350         2350\n",
              "2            2      1243     1243  ...        1243              1243         1243\n",
              "3            3       831      831  ...         831               831          831\n",
              "4            4       854      854  ...         854               854          854\n",
              "5            5      1321     1321  ...        1321              1321         1321\n",
              "6            6      2482     2482  ...        2482              2482         2482\n",
              "7            7      4011     4011  ...        4011              4011         4011\n",
              "8            8      6256     6256  ...        6256              6256         6256\n",
              "9            9      8748     8748  ...        8748              8748         8748\n",
              "10          10     10944    10944  ...       10944             10944        10944\n",
              "11          11     12411    12411  ...       12411             12411        12411\n",
              "12          12     12587    12587  ...       12587             12587        12587\n",
              "13          13     12129    12129  ...       12129             12129        12129\n",
              "14          14     10984    10984  ...       10984             10984        10984\n",
              "15          15     10175    10175  ...       10175             10175        10175\n",
              "16          16     10384    10384  ...       10384             10384        10384\n",
              "17          17     10899    10899  ...       10899             10899        10899\n",
              "18          18     12280    12280  ...       12280             12280        12280\n",
              "19          19     12905    12905  ...       12905             12905        12905\n",
              "20          20     12228    12228  ...       12228             12228        12228\n",
              "21          21     10921    10921  ...       10921             10921        10921\n",
              "22          22      8822     8822  ...        8822              8822         8822\n",
              "23          23      6275     6275  ...        6275              6275         6275\n",
              "\n",
              "[24 rows x 7 columns]"
            ]
          },
          "metadata": {},
          "execution_count": 21
        }
      ]
    },
    {
      "cell_type": "code",
      "metadata": {
        "colab": {
          "base_uri": "https://localhost:8080/",
          "height": 265
        },
        "id": "cxEG2Mi54SWr",
        "outputId": "84afbbc2-aab3-4d4f-adb9-de869db94197"
      },
      "source": [
        "plt.bar(GB3.index,GB3.Total_Price)\n",
        "plt.xticks(GB3.index)\n",
        "plt.show()"
      ],
      "execution_count": null,
      "outputs": [
        {
          "output_type": "display_data",
          "data": {
            "image/png": "[encoded data removed]",
            "text/plain": [
              "<Figure size 432x288 with 1 Axes>"
            ]
          },
          "metadata": {
            "needs_background": "light"
          }
        }
      ]
    },
    {
      "cell_type": "code",
      "metadata": {
        "id": "VSXuiXobIvmm"
      },
      "source": [
        "#which two products area sold together most "
      ],
      "execution_count": null,
      "outputs": []
    },
    {
      "cell_type": "code",
      "metadata": {
        "id": "JqtiYziv8qOD"
      },
      "source": [
        "DF=pd.merge(df,df,left_on='Order ID',right_on='Order ID')"
      ],
      "execution_count": 8,
      "outputs": []
    },
    {
      "cell_type": "code",
      "metadata": {
        "colab": {
          "base_uri": "https://localhost:8080/"
        },
        "id": "AwqqoFLc9NaO",
        "outputId": "acf6cb08-eac8-431b-f860-37bb317fba30"
      },
      "source": [
        "df.shape"
      ],
      "execution_count": 10,
      "outputs": [
        {
          "output_type": "execute_result",
          "data": {
            "text/plain": [
              "(124658, 6)"
            ]
          },
          "metadata": {},
          "execution_count": 10
        }
      ]
    },
    {
      "cell_type": "code",
      "metadata": {
        "colab": {
          "base_uri": "https://localhost:8080/"
        },
        "id": "WbYrdX2L9LkQ",
        "outputId": "d8b7c43f-6f26-45e1-90dc-df1e163e63e6"
      },
      "source": [
        "DF.shape"
      ],
      "execution_count": 9,
      "outputs": [
        {
          "output_type": "execute_result",
          "data": {
            "text/plain": [
              "(135250, 11)"
            ]
          },
          "metadata": {},
          "execution_count": 9
        }
      ]
    },
    {
      "cell_type": "code",
      "metadata": {
        "id": "frWgWgMb9M-M"
      },
      "source": [
        "DF=DF[DF['Product_x']!=DF['Product_y']]"
      ],
      "execution_count": 11,
      "outputs": []
    },
    {
      "cell_type": "code",
      "metadata": {
        "colab": {
          "base_uri": "https://localhost:8080/"
        },
        "id": "RYlnfiiP9gV3",
        "outputId": "f150bbba-7e93-406d-be94-2c7952680334"
      },
      "source": [
        "DF.shape"
      ],
      "execution_count": 12,
      "outputs": [
        {
          "output_type": "execute_result",
          "data": {
            "text/plain": [
              "(10204, 11)"
            ]
          },
          "metadata": {},
          "execution_count": 12
        }
      ]
    },
    {
      "cell_type": "code",
      "metadata": {
        "colab": {
          "base_uri": "https://localhost:8080/"
        },
        "id": "JB_qQbH--NsT",
        "outputId": "299c414d-af22-4fc1-b3c6-3a5f25740f97"
      },
      "source": [
        "DF.info()"
      ],
      "execution_count": 14,
      "outputs": [
        {
          "output_type": "stream",
          "name": "stdout",
          "text": [
            "<class 'pandas.core.frame.DataFrame'>\n",
            "Int64Index: 10204 entries, 12 to 135245\n",
            "Data columns (total 11 columns):\n",
            " #   Column              Non-Null Count  Dtype         \n",
            "---  ------              --------------  -----         \n",
            " 0   Order_Date_x        10204 non-null  datetime64[ns]\n",
            " 1   Order ID            10204 non-null  float64       \n",
            " 2   Product_x           10204 non-null  object        \n",
            " 3   Quantity Ordered_x  10204 non-null  float64       \n",
            " 4   Price Each_x        10204 non-null  float64       \n",
            " 5   Purchase Address_x  10204 non-null  object        \n",
            " 6   Order_Date_y        10204 non-null  datetime64[ns]\n",
            " 7   Product_y           10204 non-null  object        \n",
            " 8   Quantity Ordered_y  10204 non-null  float64       \n",
            " 9   Price Each_y        10204 non-null  float64       \n",
            " 10  Purchase Address_y  10204 non-null  object        \n",
            "dtypes: datetime64[ns](2), float64(5), object(4)\n",
            "memory usage: 956.6+ KB\n"
          ]
        }
      ]
    },
    {
      "cell_type": "code",
      "metadata": {
        "id": "fQMyb7gi9hxR"
      },
      "source": [
        "GB5=DF.groupby(['Product_x','Product_y'])['Order ID'].count()"
      ],
      "execution_count": 17,
      "outputs": []
    },
    {
      "cell_type": "code",
      "metadata": {
        "id": "FTBhvmrv_jsJ"
      },
      "source": [
        "GB5=pd.DataFrame(GB5)"
      ],
      "execution_count": 21,
      "outputs": []
    },
    {
      "cell_type": "code",
      "metadata": {
        "colab": {
          "base_uri": "https://localhost:8080/"
        },
        "id": "IMnFAcMeAK2t",
        "outputId": "36df487a-f153-4fde-9c53-c28b7545d373"
      },
      "source": [
        "GB5.index[:][0]"
      ],
      "execution_count": 29,
      "outputs": [
        {
          "output_type": "execute_result",
          "data": {
            "text/plain": [
              "('20in Monitor', '27in 4K Gaming Monitor')"
            ]
          },
          "metadata": {},
          "execution_count": 29
        }
      ]
    },
    {
      "cell_type": "code",
      "metadata": {
        "colab": {
          "base_uri": "https://localhost:8080/"
        },
        "id": "cqABdnyVEcUN",
        "outputId": "5363de92-769d-4d73-f27f-6a117ee26ed5"
      },
      "source": [
        "type(GB5.index)"
      ],
      "execution_count": 50,
      "outputs": [
        {
          "output_type": "execute_result",
          "data": {
            "text/plain": [
              "pandas.core.indexes.multi.MultiIndex"
            ]
          },
          "metadata": {},
          "execution_count": 50
        }
      ]
    },
    {
      "cell_type": "code",
      "metadata": {
        "id": "7b1LjOBtBgq3"
      },
      "source": [
        "index=GB5.index"
      ],
      "execution_count": 33,
      "outputs": []
    },
    {
      "cell_type": "code",
      "metadata": {
        "colab": {
          "base_uri": "https://localhost:8080/"
        },
        "id": "IgDB0VkPBtTs",
        "outputId": "d7e8a67f-9890-4195-c378-02a0aaaa4a77"
      },
      "source": [
        "index.shape"
      ],
      "execution_count": 34,
      "outputs": [
        {
          "output_type": "execute_result",
          "data": {
            "text/plain": [
              "(316,)"
            ]
          },
          "metadata": {},
          "execution_count": 34
        }
      ]
    },
    {
      "cell_type": "code",
      "metadata": {
        "id": "jiiUchw0Bv1-"
      },
      "source": [
        "index=np.array(index)"
      ],
      "execution_count": 42,
      "outputs": []
    },
    {
      "cell_type": "code",
      "metadata": {
        "id": "a4sLFShGAJ5V"
      },
      "source": [
        "p1=[item[0] for item in index]\n",
        "p2=[item[1] for item in index]"
      ],
      "execution_count": 51,
      "outputs": []
    },
    {
      "cell_type": "code",
      "metadata": {
        "id": "iqKeVEA5RrPP"
      },
      "source": [
        "GB5['p1']=p1\n",
        "GB5['p2']=p2"
      ],
      "execution_count": 56,
      "outputs": []
    },
    {
      "cell_type": "code",
      "metadata": {
        "colab": {
          "base_uri": "https://localhost:8080/",
          "height": 455
        },
        "id": "U1mO4y4JSVER",
        "outputId": "b66c70c4-19f5-4ae3-8242-38ee1820fe01"
      },
      "source": [
        "GB5"
      ],
      "execution_count": 57,
      "outputs": [
        {
          "output_type": "execute_result",
          "data": {
            "text/html": [
              "<div>\n",
              "<style scoped>\n",
              "    .dataframe tbody tr th:only-of-type {\n",
              "        vertical-align: middle;\n",
              "    }\n",
              "\n",
              "    .dataframe tbody tr th {\n",
              "        vertical-align: top;\n",
              "    }\n",
              "\n",
              "    .dataframe thead th {\n",
              "        text-align: right;\n",
              "    }\n",
              "</style>\n",
              "<table border=\"1\" class=\"dataframe\">\n",
              "  <thead>\n",
              "    <tr style=\"text-align: right;\">\n",
              "      <th></th>\n",
              "      <th></th>\n",
              "      <th>Order ID</th>\n",
              "      <th>p1</th>\n",
              "      <th>p2</th>\n",
              "    </tr>\n",
              "    <tr>\n",
              "      <th>Product_x</th>\n",
              "      <th>Product_y</th>\n",
              "      <th></th>\n",
              "      <th></th>\n",
              "      <th></th>\n",
              "    </tr>\n",
              "  </thead>\n",
              "  <tbody>\n",
              "    <tr>\n",
              "      <th rowspan=\"5\" valign=\"top\">20in Monitor</th>\n",
              "      <th>27in 4K Gaming Monitor</th>\n",
              "      <td>1</td>\n",
              "      <td>20in Monitor</td>\n",
              "      <td>27in 4K Gaming Monitor</td>\n",
              "    </tr>\n",
              "    <tr>\n",
              "      <th>27in FHD Monitor</th>\n",
              "      <td>3</td>\n",
              "      <td>20in Monitor</td>\n",
              "      <td>27in FHD Monitor</td>\n",
              "    </tr>\n",
              "    <tr>\n",
              "      <th>34in Ultrawide Monitor</th>\n",
              "      <td>1</td>\n",
              "      <td>20in Monitor</td>\n",
              "      <td>34in Ultrawide Monitor</td>\n",
              "    </tr>\n",
              "    <tr>\n",
              "      <th>AA Batteries (4-pack)</th>\n",
              "      <td>10</td>\n",
              "      <td>20in Monitor</td>\n",
              "      <td>AA Batteries (4-pack)</td>\n",
              "    </tr>\n",
              "    <tr>\n",
              "      <th>AAA Batteries (4-pack)</th>\n",
              "      <td>7</td>\n",
              "      <td>20in Monitor</td>\n",
              "      <td>AAA Batteries (4-pack)</td>\n",
              "    </tr>\n",
              "    <tr>\n",
              "      <th>...</th>\n",
              "      <th>...</th>\n",
              "      <td>...</td>\n",
              "      <td>...</td>\n",
              "      <td>...</td>\n",
              "    </tr>\n",
              "    <tr>\n",
              "      <th rowspan=\"5\" valign=\"top\">iPhone</th>\n",
              "      <th>Macbook Pro Laptop</th>\n",
              "      <td>3</td>\n",
              "      <td>iPhone</td>\n",
              "      <td>Macbook Pro Laptop</td>\n",
              "    </tr>\n",
              "    <tr>\n",
              "      <th>ThinkPad Laptop</th>\n",
              "      <td>4</td>\n",
              "      <td>iPhone</td>\n",
              "      <td>ThinkPad Laptop</td>\n",
              "    </tr>\n",
              "    <tr>\n",
              "      <th>USB-C Charging Cable</th>\n",
              "      <td>20</td>\n",
              "      <td>iPhone</td>\n",
              "      <td>USB-C Charging Cable</td>\n",
              "    </tr>\n",
              "    <tr>\n",
              "      <th>Vareebadd Phone</th>\n",
              "      <td>7</td>\n",
              "      <td>iPhone</td>\n",
              "      <td>Vareebadd Phone</td>\n",
              "    </tr>\n",
              "    <tr>\n",
              "      <th>Wired Headphones</th>\n",
              "      <td>312</td>\n",
              "      <td>iPhone</td>\n",
              "      <td>Wired Headphones</td>\n",
              "    </tr>\n",
              "  </tbody>\n",
              "</table>\n",
              "<p>316 rows × 3 columns</p>\n",
              "</div>"
            ],
            "text/plain": [
              "                                     Order ID  ...                      p2\n",
              "Product_x    Product_y                         ...                        \n",
              "20in Monitor 27in 4K Gaming Monitor         1  ...  27in 4K Gaming Monitor\n",
              "             27in FHD Monitor               3  ...        27in FHD Monitor\n",
              "             34in Ultrawide Monitor         1  ...  34in Ultrawide Monitor\n",
              "             AA Batteries (4-pack)         10  ...   AA Batteries (4-pack)\n",
              "             AAA Batteries (4-pack)         7  ...  AAA Batteries (4-pack)\n",
              "...                                       ...  ...                     ...\n",
              "iPhone       Macbook Pro Laptop             3  ...      Macbook Pro Laptop\n",
              "             ThinkPad Laptop                4  ...         ThinkPad Laptop\n",
              "             USB-C Charging Cable          20  ...    USB-C Charging Cable\n",
              "             Vareebadd Phone                7  ...         Vareebadd Phone\n",
              "             Wired Headphones             312  ...        Wired Headphones\n",
              "\n",
              "[316 rows x 3 columns]"
            ]
          },
          "metadata": {},
          "execution_count": 57
        }
      ]
    },
    {
      "cell_type": "code",
      "metadata": {
        "colab": {
          "base_uri": "https://localhost:8080/",
          "height": 455
        },
        "id": "PDM-C8R0TFVA",
        "outputId": "a097d59c-7f28-4407-e2c8-791722ee09e3"
      },
      "source": [
        "GB5[GB5.p1!=GB5.p2]"
      ],
      "execution_count": 59,
      "outputs": [
        {
          "output_type": "execute_result",
          "data": {
            "text/html": [
              "<div>\n",
              "<style scoped>\n",
              "    .dataframe tbody tr th:only-of-type {\n",
              "        vertical-align: middle;\n",
              "    }\n",
              "\n",
              "    .dataframe tbody tr th {\n",
              "        vertical-align: top;\n",
              "    }\n",
              "\n",
              "    .dataframe thead th {\n",
              "        text-align: right;\n",
              "    }\n",
              "</style>\n",
              "<table border=\"1\" class=\"dataframe\">\n",
              "  <thead>\n",
              "    <tr style=\"text-align: right;\">\n",
              "      <th></th>\n",
              "      <th></th>\n",
              "      <th>Order ID</th>\n",
              "      <th>p1</th>\n",
              "      <th>p2</th>\n",
              "    </tr>\n",
              "    <tr>\n",
              "      <th>Product_x</th>\n",
              "      <th>Product_y</th>\n",
              "      <th></th>\n",
              "      <th></th>\n",
              "      <th></th>\n",
              "    </tr>\n",
              "  </thead>\n",
              "  <tbody>\n",
              "    <tr>\n",
              "      <th rowspan=\"5\" valign=\"top\">20in Monitor</th>\n",
              "      <th>27in 4K Gaming Monitor</th>\n",
              "      <td>1</td>\n",
              "      <td>20in Monitor</td>\n",
              "      <td>27in 4K Gaming Monitor</td>\n",
              "    </tr>\n",
              "    <tr>\n",
              "      <th>27in FHD Monitor</th>\n",
              "      <td>3</td>\n",
              "      <td>20in Monitor</td>\n",
              "      <td>27in FHD Monitor</td>\n",
              "    </tr>\n",
              "    <tr>\n",
              "      <th>34in Ultrawide Monitor</th>\n",
              "      <td>1</td>\n",
              "      <td>20in Monitor</td>\n",
              "      <td>34in Ultrawide Monitor</td>\n",
              "    </tr>\n",
              "    <tr>\n",
              "      <th>AA Batteries (4-pack)</th>\n",
              "      <td>10</td>\n",
              "      <td>20in Monitor</td>\n",
              "      <td>AA Batteries (4-pack)</td>\n",
              "    </tr>\n",
              "    <tr>\n",
              "      <th>AAA Batteries (4-pack)</th>\n",
              "      <td>7</td>\n",
              "      <td>20in Monitor</td>\n",
              "      <td>AAA Batteries (4-pack)</td>\n",
              "    </tr>\n",
              "    <tr>\n",
              "      <th>...</th>\n",
              "      <th>...</th>\n",
              "      <td>...</td>\n",
              "      <td>...</td>\n",
              "      <td>...</td>\n",
              "    </tr>\n",
              "    <tr>\n",
              "      <th rowspan=\"5\" valign=\"top\">iPhone</th>\n",
              "      <th>Macbook Pro Laptop</th>\n",
              "      <td>3</td>\n",
              "      <td>iPhone</td>\n",
              "      <td>Macbook Pro Laptop</td>\n",
              "    </tr>\n",
              "    <tr>\n",
              "      <th>ThinkPad Laptop</th>\n",
              "      <td>4</td>\n",
              "      <td>iPhone</td>\n",
              "      <td>ThinkPad Laptop</td>\n",
              "    </tr>\n",
              "    <tr>\n",
              "      <th>USB-C Charging Cable</th>\n",
              "      <td>20</td>\n",
              "      <td>iPhone</td>\n",
              "      <td>USB-C Charging Cable</td>\n",
              "    </tr>\n",
              "    <tr>\n",
              "      <th>Vareebadd Phone</th>\n",
              "      <td>7</td>\n",
              "      <td>iPhone</td>\n",
              "      <td>Vareebadd Phone</td>\n",
              "    </tr>\n",
              "    <tr>\n",
              "      <th>Wired Headphones</th>\n",
              "      <td>312</td>\n",
              "      <td>iPhone</td>\n",
              "      <td>Wired Headphones</td>\n",
              "    </tr>\n",
              "  </tbody>\n",
              "</table>\n",
              "<p>316 rows × 3 columns</p>\n",
              "</div>"
            ],
            "text/plain": [
              "                                     Order ID  ...                      p2\n",
              "Product_x    Product_y                         ...                        \n",
              "20in Monitor 27in 4K Gaming Monitor         1  ...  27in 4K Gaming Monitor\n",
              "             27in FHD Monitor               3  ...        27in FHD Monitor\n",
              "             34in Ultrawide Monitor         1  ...  34in Ultrawide Monitor\n",
              "             AA Batteries (4-pack)         10  ...   AA Batteries (4-pack)\n",
              "             AAA Batteries (4-pack)         7  ...  AAA Batteries (4-pack)\n",
              "...                                       ...  ...                     ...\n",
              "iPhone       Macbook Pro Laptop             3  ...      Macbook Pro Laptop\n",
              "             ThinkPad Laptop                4  ...         ThinkPad Laptop\n",
              "             USB-C Charging Cable          20  ...    USB-C Charging Cable\n",
              "             Vareebadd Phone                7  ...         Vareebadd Phone\n",
              "             Wired Headphones             312  ...        Wired Headphones\n",
              "\n",
              "[316 rows x 3 columns]"
            ]
          },
          "metadata": {},
          "execution_count": 59
        }
      ]
    },
    {
      "cell_type": "code",
      "metadata": {
        "colab": {
          "base_uri": "https://localhost:8080/"
        },
        "id": "OhNMKzT-SceP",
        "outputId": "564a6e7d-045b-44f1-96a9-90594e27d91c"
      },
      "source": [
        "GB5['Order ID'].nlargest(10)"
      ],
      "execution_count": 64,
      "outputs": [
        {
          "output_type": "execute_result",
          "data": {
            "text/plain": [
              "Product_x                 Product_y               \n",
              "Google Phone              USB-C Charging Cable        712\n",
              "USB-C Charging Cable      Google Phone                712\n",
              "Lightning Charging Cable  iPhone                      696\n",
              "iPhone                    Lightning Charging Cable    696\n",
              "Wired Headphones          iPhone                      312\n",
              "iPhone                    Wired Headphones            312\n",
              "Google Phone              Wired Headphones            287\n",
              "Wired Headphones          Google Phone                287\n",
              "Apple Airpods Headphones  iPhone                      248\n",
              "iPhone                    Apple Airpods Headphones    248\n",
              "Name: Order ID, dtype: int64"
            ]
          },
          "metadata": {},
          "execution_count": 64
        }
      ]
    },
    {
      "cell_type": "code",
      "metadata": {
        "id": "VdcC_ziKTCRO"
      },
      "source": [
        "dup=df[df['Order ID'].duplicated(keep=False)]"
      ],
      "execution_count": 77,
      "outputs": []
    },
    {
      "cell_type": "code",
      "metadata": {
        "colab": {
          "base_uri": "https://localhost:8080/",
          "height": 363
        },
        "id": "6DiIgexmZcHp",
        "outputId": "9b7ed6d4-2b39-4136-cfce-eb42a3bfac1e"
      },
      "source": [
        "dup.head(10)"
      ],
      "execution_count": 66,
      "outputs": [
        {
          "output_type": "execute_result",
          "data": {
            "text/html": [
              "<div>\n",
              "<style scoped>\n",
              "    .dataframe tbody tr th:only-of-type {\n",
              "        vertical-align: middle;\n",
              "    }\n",
              "\n",
              "    .dataframe tbody tr th {\n",
              "        vertical-align: top;\n",
              "    }\n",
              "\n",
              "    .dataframe thead th {\n",
              "        text-align: right;\n",
              "    }\n",
              "</style>\n",
              "<table border=\"1\" class=\"dataframe\">\n",
              "  <thead>\n",
              "    <tr style=\"text-align: right;\">\n",
              "      <th></th>\n",
              "      <th>Order_Date</th>\n",
              "      <th>Order ID</th>\n",
              "      <th>Product</th>\n",
              "      <th>Quantity Ordered</th>\n",
              "      <th>Price Each</th>\n",
              "      <th>Purchase Address</th>\n",
              "    </tr>\n",
              "  </thead>\n",
              "  <tbody>\n",
              "    <tr>\n",
              "      <th>11</th>\n",
              "      <td>2019-01-01 07:29:00</td>\n",
              "      <td>144804.0</td>\n",
              "      <td>Wired Headphones</td>\n",
              "      <td>1.0</td>\n",
              "      <td>11.99</td>\n",
              "      <td>628 Lake St, New York City, NY 10001</td>\n",
              "    </tr>\n",
              "    <tr>\n",
              "      <th>12</th>\n",
              "      <td>2019-01-01 07:29:00</td>\n",
              "      <td>144804.0</td>\n",
              "      <td>iPhone</td>\n",
              "      <td>1.0</td>\n",
              "      <td>700.00</td>\n",
              "      <td>628 Lake St, New York City, NY 10001</td>\n",
              "    </tr>\n",
              "    <tr>\n",
              "      <th>65</th>\n",
              "      <td>2019-01-01 11:25:00</td>\n",
              "      <td>148074.0</td>\n",
              "      <td>USB-C Charging Cable</td>\n",
              "      <td>1.0</td>\n",
              "      <td>11.95</td>\n",
              "      <td>6 Johnson St, Atlanta, GA 30301</td>\n",
              "    </tr>\n",
              "    <tr>\n",
              "      <th>66</th>\n",
              "      <td>2019-01-01 11:25:00</td>\n",
              "      <td>148074.0</td>\n",
              "      <td>Google Phone</td>\n",
              "      <td>1.0</td>\n",
              "      <td>600.00</td>\n",
              "      <td>6 Johnson St, Atlanta, GA 30301</td>\n",
              "    </tr>\n",
              "    <tr>\n",
              "      <th>79</th>\n",
              "      <td>2019-01-01 12:02:00</td>\n",
              "      <td>148450.0</td>\n",
              "      <td>iPhone</td>\n",
              "      <td>1.0</td>\n",
              "      <td>700.00</td>\n",
              "      <td>761 Lakeview St, Dallas, TX 75001</td>\n",
              "    </tr>\n",
              "    <tr>\n",
              "      <th>80</th>\n",
              "      <td>2019-01-01 12:02:00</td>\n",
              "      <td>148450.0</td>\n",
              "      <td>Lightning Charging Cable</td>\n",
              "      <td>1.0</td>\n",
              "      <td>14.95</td>\n",
              "      <td>761 Lakeview St, Dallas, TX 75001</td>\n",
              "    </tr>\n",
              "    <tr>\n",
              "      <th>92</th>\n",
              "      <td>2019-01-01 12:51:00</td>\n",
              "      <td>144679.0</td>\n",
              "      <td>Google Phone</td>\n",
              "      <td>1.0</td>\n",
              "      <td>600.00</td>\n",
              "      <td>984 Lakeview St, San Francisco, CA 94016</td>\n",
              "    </tr>\n",
              "    <tr>\n",
              "      <th>93</th>\n",
              "      <td>2019-01-01 12:51:00</td>\n",
              "      <td>144679.0</td>\n",
              "      <td>USB-C Charging Cable</td>\n",
              "      <td>1.0</td>\n",
              "      <td>11.95</td>\n",
              "      <td>984 Lakeview St, San Francisco, CA 94016</td>\n",
              "    </tr>\n",
              "    <tr>\n",
              "      <th>94</th>\n",
              "      <td>2019-01-01 12:57:00</td>\n",
              "      <td>147451.0</td>\n",
              "      <td>Wired Headphones</td>\n",
              "      <td>1.0</td>\n",
              "      <td>11.99</td>\n",
              "      <td>229 Elm St, New York City, NY 10001</td>\n",
              "    </tr>\n",
              "    <tr>\n",
              "      <th>95</th>\n",
              "      <td>2019-01-01 12:57:00</td>\n",
              "      <td>147451.0</td>\n",
              "      <td>Google Phone</td>\n",
              "      <td>1.0</td>\n",
              "      <td>600.00</td>\n",
              "      <td>229 Elm St, New York City, NY 10001</td>\n",
              "    </tr>\n",
              "  </tbody>\n",
              "</table>\n",
              "</div>"
            ],
            "text/plain": [
              "            Order_Date  ...                          Purchase Address\n",
              "11 2019-01-01 07:29:00  ...      628 Lake St, New York City, NY 10001\n",
              "12 2019-01-01 07:29:00  ...      628 Lake St, New York City, NY 10001\n",
              "65 2019-01-01 11:25:00  ...           6 Johnson St, Atlanta, GA 30301\n",
              "66 2019-01-01 11:25:00  ...           6 Johnson St, Atlanta, GA 30301\n",
              "79 2019-01-01 12:02:00  ...         761 Lakeview St, Dallas, TX 75001\n",
              "80 2019-01-01 12:02:00  ...         761 Lakeview St, Dallas, TX 75001\n",
              "92 2019-01-01 12:51:00  ...  984 Lakeview St, San Francisco, CA 94016\n",
              "93 2019-01-01 12:51:00  ...  984 Lakeview St, San Francisco, CA 94016\n",
              "94 2019-01-01 12:57:00  ...       229 Elm St, New York City, NY 10001\n",
              "95 2019-01-01 12:57:00  ...       229 Elm St, New York City, NY 10001\n",
              "\n",
              "[10 rows x 6 columns]"
            ]
          },
          "metadata": {},
          "execution_count": 66
        }
      ]
    },
    {
      "cell_type": "code",
      "metadata": {
        "colab": {
          "base_uri": "https://localhost:8080/"
        },
        "id": "AFSxYroSZeTd",
        "outputId": "3ddd2665-1ad7-4986-a941-99e31ff4a2b4"
      },
      "source": [
        "dup['grouped']=dup.groupby(dup['Order ID'])['Product'].transform(lambda x : ','.join(x))"
      ],
      "execution_count": 78,
      "outputs": [
        {
          "output_type": "stream",
          "name": "stderr",
          "text": [
            "/usr/local/lib/python3.7/dist-packages/ipykernel_launcher.py:1: SettingWithCopyWarning: \n",
            "A value is trying to be set on a copy of a slice from a DataFrame.\n",
            "Try using .loc[row_indexer,col_indexer] = value instead\n",
            "\n",
            "See the caveats in the documentation: https://pandas.pydata.org/pandas-docs/stable/user_guide/indexing.html#returning-a-view-versus-a-copy\n",
            "  \"\"\"Entry point for launching an IPython kernel.\n"
          ]
        }
      ]
    },
    {
      "cell_type": "code",
      "metadata": {
        "colab": {
          "base_uri": "https://localhost:8080/",
          "height": 615
        },
        "id": "zav86klecXq7",
        "outputId": "ce84c470-2614-4155-81ee-bb0f6f06e134"
      },
      "source": [
        "dup"
      ],
      "execution_count": 74,
      "outputs": [
        {
          "output_type": "execute_result",
          "data": {
            "text/html": [
              "<div>\n",
              "<style scoped>\n",
              "    .dataframe tbody tr th:only-of-type {\n",
              "        vertical-align: middle;\n",
              "    }\n",
              "\n",
              "    .dataframe tbody tr th {\n",
              "        vertical-align: top;\n",
              "    }\n",
              "\n",
              "    .dataframe thead th {\n",
              "        text-align: right;\n",
              "    }\n",
              "</style>\n",
              "<table border=\"1\" class=\"dataframe\">\n",
              "  <thead>\n",
              "    <tr style=\"text-align: right;\">\n",
              "      <th></th>\n",
              "      <th>Order_Date</th>\n",
              "      <th>Order ID</th>\n",
              "      <th>Product</th>\n",
              "      <th>Quantity Ordered</th>\n",
              "      <th>Price Each</th>\n",
              "      <th>Purchase Address</th>\n",
              "      <th>grouped</th>\n",
              "    </tr>\n",
              "  </thead>\n",
              "  <tbody>\n",
              "    <tr>\n",
              "      <th>11</th>\n",
              "      <td>2019-01-01 07:29:00</td>\n",
              "      <td>144804.0</td>\n",
              "      <td>Wired Headphones</td>\n",
              "      <td>1.0</td>\n",
              "      <td>11.99</td>\n",
              "      <td>628 Lake St, New York City, NY 10001</td>\n",
              "      <td>Wired Headphones,iPhone</td>\n",
              "    </tr>\n",
              "    <tr>\n",
              "      <th>12</th>\n",
              "      <td>2019-01-01 07:29:00</td>\n",
              "      <td>144804.0</td>\n",
              "      <td>iPhone</td>\n",
              "      <td>1.0</td>\n",
              "      <td>700.00</td>\n",
              "      <td>628 Lake St, New York City, NY 10001</td>\n",
              "      <td>Wired Headphones,iPhone</td>\n",
              "    </tr>\n",
              "    <tr>\n",
              "      <th>65</th>\n",
              "      <td>2019-01-01 11:25:00</td>\n",
              "      <td>148074.0</td>\n",
              "      <td>USB-C Charging Cable</td>\n",
              "      <td>1.0</td>\n",
              "      <td>11.95</td>\n",
              "      <td>6 Johnson St, Atlanta, GA 30301</td>\n",
              "      <td>USB-C Charging Cable,Google Phone</td>\n",
              "    </tr>\n",
              "    <tr>\n",
              "      <th>66</th>\n",
              "      <td>2019-01-01 11:25:00</td>\n",
              "      <td>148074.0</td>\n",
              "      <td>Google Phone</td>\n",
              "      <td>1.0</td>\n",
              "      <td>600.00</td>\n",
              "      <td>6 Johnson St, Atlanta, GA 30301</td>\n",
              "      <td>USB-C Charging Cable,Google Phone</td>\n",
              "    </tr>\n",
              "    <tr>\n",
              "      <th>79</th>\n",
              "      <td>2019-01-01 12:02:00</td>\n",
              "      <td>148450.0</td>\n",
              "      <td>iPhone</td>\n",
              "      <td>1.0</td>\n",
              "      <td>700.00</td>\n",
              "      <td>761 Lakeview St, Dallas, TX 75001</td>\n",
              "      <td>iPhone,Lightning Charging Cable</td>\n",
              "    </tr>\n",
              "    <tr>\n",
              "      <th>...</th>\n",
              "      <td>...</td>\n",
              "      <td>...</td>\n",
              "      <td>...</td>\n",
              "      <td>...</td>\n",
              "      <td>...</td>\n",
              "      <td>...</td>\n",
              "      <td>...</td>\n",
              "    </tr>\n",
              "    <tr>\n",
              "      <th>124547</th>\n",
              "      <td>2019-09-19 16:05:00</td>\n",
              "      <td>253415.0</td>\n",
              "      <td>Lightning Charging Cable</td>\n",
              "      <td>1.0</td>\n",
              "      <td>14.95</td>\n",
              "      <td>833 Chestnut St, Los Angeles, CA 90001</td>\n",
              "      <td>iPhone,Lightning Charging Cable</td>\n",
              "    </tr>\n",
              "    <tr>\n",
              "      <th>124550</th>\n",
              "      <td>2019-09-19 16:09:00</td>\n",
              "      <td>249390.0</td>\n",
              "      <td>AA Batteries (4-pack)</td>\n",
              "      <td>1.0</td>\n",
              "      <td>3.84</td>\n",
              "      <td>412 Jefferson St, San Francisco, CA 94016</td>\n",
              "      <td>AA Batteries (4-pack),Lightning Charging Cable</td>\n",
              "    </tr>\n",
              "    <tr>\n",
              "      <th>124552</th>\n",
              "      <td>2019-09-19 16:09:00</td>\n",
              "      <td>249390.0</td>\n",
              "      <td>Lightning Charging Cable</td>\n",
              "      <td>1.0</td>\n",
              "      <td>14.95</td>\n",
              "      <td>412 Jefferson St, San Francisco, CA 94016</td>\n",
              "      <td>AA Batteries (4-pack),Lightning Charging Cable</td>\n",
              "    </tr>\n",
              "    <tr>\n",
              "      <th>124653</th>\n",
              "      <td>2019-09-19 20:36:00</td>\n",
              "      <td>254686.0</td>\n",
              "      <td>27in FHD Monitor</td>\n",
              "      <td>1.0</td>\n",
              "      <td>149.99</td>\n",
              "      <td>285 Elm St, New York City, NY 10001</td>\n",
              "      <td>27in FHD Monitor,Lightning Charging Cable</td>\n",
              "    </tr>\n",
              "    <tr>\n",
              "      <th>124654</th>\n",
              "      <td>2019-09-19 20:36:00</td>\n",
              "      <td>254686.0</td>\n",
              "      <td>Lightning Charging Cable</td>\n",
              "      <td>1.0</td>\n",
              "      <td>14.95</td>\n",
              "      <td>285 Elm St, New York City, NY 10001</td>\n",
              "      <td>27in FHD Monitor,Lightning Charging Cable</td>\n",
              "    </tr>\n",
              "  </tbody>\n",
              "</table>\n",
              "<p>9816 rows × 7 columns</p>\n",
              "</div>"
            ],
            "text/plain": [
              "                Order_Date  ...                                         grouped\n",
              "11     2019-01-01 07:29:00  ...                         Wired Headphones,iPhone\n",
              "12     2019-01-01 07:29:00  ...                         Wired Headphones,iPhone\n",
              "65     2019-01-01 11:25:00  ...               USB-C Charging Cable,Google Phone\n",
              "66     2019-01-01 11:25:00  ...               USB-C Charging Cable,Google Phone\n",
              "79     2019-01-01 12:02:00  ...                 iPhone,Lightning Charging Cable\n",
              "...                    ...  ...                                             ...\n",
              "124547 2019-09-19 16:05:00  ...                 iPhone,Lightning Charging Cable\n",
              "124550 2019-09-19 16:09:00  ...  AA Batteries (4-pack),Lightning Charging Cable\n",
              "124552 2019-09-19 16:09:00  ...  AA Batteries (4-pack),Lightning Charging Cable\n",
              "124653 2019-09-19 20:36:00  ...       27in FHD Monitor,Lightning Charging Cable\n",
              "124654 2019-09-19 20:36:00  ...       27in FHD Monitor,Lightning Charging Cable\n",
              "\n",
              "[9816 rows x 7 columns]"
            ]
          },
          "metadata": {},
          "execution_count": 74
        }
      ]
    },
    {
      "cell_type": "code",
      "metadata": {
        "colab": {
          "base_uri": "https://localhost:8080/"
        },
        "id": "uUWyvV0hbwC0",
        "outputId": "3c52de2a-62f8-48bf-9276-19328c6c7263"
      },
      "source": [
        "grouped.groupby(by='Product')['Product'].count().nlargest(5)"
      ],
      "execution_count": 71,
      "outputs": [
        {
          "output_type": "execute_result",
          "data": {
            "text/plain": [
              "Product\n",
              "Lightning Charging Cable,iPhone      630\n",
              "Google Phone,USB-C Charging Cable    624\n",
              "USB-C Charging Cable,Google Phone    606\n",
              "iPhone,Lightning Charging Cable      606\n",
              "Wired Headphones,iPhone              290\n",
              "Name: Product, dtype: int64"
            ]
          },
          "metadata": {},
          "execution_count": 71
        }
      ]
    },
    {
      "cell_type": "code",
      "metadata": {
        "id": "NxDumzPlbxpM"
      },
      "source": [
        "dup=dup[['Order ID','grouped']].drop_duplicates()"
      ],
      "execution_count": 79,
      "outputs": []
    },
    {
      "cell_type": "code",
      "metadata": {
        "colab": {
          "base_uri": "https://localhost:8080/",
          "height": 206
        },
        "id": "ToDq7Bq8hO06",
        "outputId": "e4790598-c014-4ef1-8ec3-ffd1e538a40d"
      },
      "source": [
        "dup.head()"
      ],
      "execution_count": 80,
      "outputs": [
        {
          "output_type": "execute_result",
          "data": {
            "text/html": [
              "<div>\n",
              "<style scoped>\n",
              "    .dataframe tbody tr th:only-of-type {\n",
              "        vertical-align: middle;\n",
              "    }\n",
              "\n",
              "    .dataframe tbody tr th {\n",
              "        vertical-align: top;\n",
              "    }\n",
              "\n",
              "    .dataframe thead th {\n",
              "        text-align: right;\n",
              "    }\n",
              "</style>\n",
              "<table border=\"1\" class=\"dataframe\">\n",
              "  <thead>\n",
              "    <tr style=\"text-align: right;\">\n",
              "      <th></th>\n",
              "      <th>Order ID</th>\n",
              "      <th>grouped</th>\n",
              "    </tr>\n",
              "  </thead>\n",
              "  <tbody>\n",
              "    <tr>\n",
              "      <th>11</th>\n",
              "      <td>144804.0</td>\n",
              "      <td>Wired Headphones,iPhone</td>\n",
              "    </tr>\n",
              "    <tr>\n",
              "      <th>65</th>\n",
              "      <td>148074.0</td>\n",
              "      <td>USB-C Charging Cable,Google Phone</td>\n",
              "    </tr>\n",
              "    <tr>\n",
              "      <th>79</th>\n",
              "      <td>148450.0</td>\n",
              "      <td>iPhone,Lightning Charging Cable</td>\n",
              "    </tr>\n",
              "    <tr>\n",
              "      <th>92</th>\n",
              "      <td>144679.0</td>\n",
              "      <td>Google Phone,USB-C Charging Cable</td>\n",
              "    </tr>\n",
              "    <tr>\n",
              "      <th>94</th>\n",
              "      <td>147451.0</td>\n",
              "      <td>Wired Headphones,Google Phone</td>\n",
              "    </tr>\n",
              "  </tbody>\n",
              "</table>\n",
              "</div>"
            ],
            "text/plain": [
              "    Order ID                            grouped\n",
              "11  144804.0            Wired Headphones,iPhone\n",
              "65  148074.0  USB-C Charging Cable,Google Phone\n",
              "79  148450.0    iPhone,Lightning Charging Cable\n",
              "92  144679.0  Google Phone,USB-C Charging Cable\n",
              "94  147451.0      Wired Headphones,Google Phone"
            ]
          },
          "metadata": {},
          "execution_count": 80
        }
      ]
    },
    {
      "cell_type": "code",
      "metadata": {
        "colab": {
          "base_uri": "https://localhost:8080/"
        },
        "id": "23iAWgjvhg4a",
        "outputId": "b13f260a-b063-4d78-a0d3-d8da156bd634"
      },
      "source": [
        " from itertools import combinations\n",
        " from collections import Counter\n",
        " count=Counter() \n",
        " list_=[1,2,3,4,5,5,5,5,5]\n",
        " #print(list(combinations(list_,2)))\n",
        "\n",
        "count.update(list_)\n",
        "Counter(list_)"
      ],
      "execution_count": 88,
      "outputs": [
        {
          "output_type": "execute_result",
          "data": {
            "text/plain": [
              "Counter({1: 1, 2: 1, 3: 1, 4: 1, 5: 5})"
            ]
          },
          "metadata": {},
          "execution_count": 88
        }
      ]
    },
    {
      "cell_type": "code",
      "metadata": {
        "colab": {
          "base_uri": "https://localhost:8080/"
        },
        "id": "S3__EjQxmlOM",
        "outputId": "2588e6ea-767c-4b44-c5b8-0b231d179dc6"
      },
      "source": [
        "count=Counter()\n",
        "for row in dup['grouped']:\n",
        "  row_list=row.split(',')\n",
        "  count.update(Counter(combinations(row_list,2)))\n",
        "count.most_common(5)"
      ],
      "execution_count": 90,
      "outputs": [
        {
          "output_type": "execute_result",
          "data": {
            "text/plain": [
              "[(('Google Phone', 'USB-C Charging Cable'), 359),\n",
              " (('USB-C Charging Cable', 'Google Phone'), 353),\n",
              " (('Lightning Charging Cable', 'iPhone'), 351),\n",
              " (('iPhone', 'Lightning Charging Cable'), 345),\n",
              " (('Wired Headphones', 'iPhone'), 169)]"
            ]
          },
          "metadata": {},
          "execution_count": 90
        }
      ]
    },
    {
      "cell_type": "code",
      "metadata": {
        "id": "hzo9ZLLQs5Lx"
      },
      "source": [
        "#what product sold the most "
      ],
      "execution_count": 91,
      "outputs": []
    },
    {
      "cell_type": "code",
      "metadata": {
        "colab": {
          "base_uri": "https://localhost:8080/",
          "height": 615
        },
        "id": "zFWF_-ROtd9A",
        "outputId": "9e2c773c-82fd-4c9b-8707-1afc1c000267"
      },
      "source": [
        "df"
      ],
      "execution_count": 92,
      "outputs": [
        {
          "output_type": "execute_result",
          "data": {
            "text/html": [
              "<div>\n",
              "<style scoped>\n",
              "    .dataframe tbody tr th:only-of-type {\n",
              "        vertical-align: middle;\n",
              "    }\n",
              "\n",
              "    .dataframe tbody tr th {\n",
              "        vertical-align: top;\n",
              "    }\n",
              "\n",
              "    .dataframe thead th {\n",
              "        text-align: right;\n",
              "    }\n",
              "</style>\n",
              "<table border=\"1\" class=\"dataframe\">\n",
              "  <thead>\n",
              "    <tr style=\"text-align: right;\">\n",
              "      <th></th>\n",
              "      <th>Order_Date</th>\n",
              "      <th>Order ID</th>\n",
              "      <th>Product</th>\n",
              "      <th>Quantity Ordered</th>\n",
              "      <th>Price Each</th>\n",
              "      <th>Purchase Address</th>\n",
              "    </tr>\n",
              "  </thead>\n",
              "  <tbody>\n",
              "    <tr>\n",
              "      <th>0</th>\n",
              "      <td>2019-01-01 03:07:00</td>\n",
              "      <td>147268.0</td>\n",
              "      <td>Wired Headphones</td>\n",
              "      <td>1.0</td>\n",
              "      <td>11.99</td>\n",
              "      <td>9 Lake St, New York City, NY 10001</td>\n",
              "    </tr>\n",
              "    <tr>\n",
              "      <th>1</th>\n",
              "      <td>2019-01-01 03:40:00</td>\n",
              "      <td>148041.0</td>\n",
              "      <td>USB-C Charging Cable</td>\n",
              "      <td>1.0</td>\n",
              "      <td>11.95</td>\n",
              "      <td>760 Church St, San Francisco, CA 94016</td>\n",
              "    </tr>\n",
              "    <tr>\n",
              "      <th>2</th>\n",
              "      <td>2019-01-01 04:56:00</td>\n",
              "      <td>149343.0</td>\n",
              "      <td>Apple Airpods Headphones</td>\n",
              "      <td>1.0</td>\n",
              "      <td>150.00</td>\n",
              "      <td>735 5th St, New York City, NY 10001</td>\n",
              "    </tr>\n",
              "    <tr>\n",
              "      <th>3</th>\n",
              "      <td>2019-01-01 05:53:00</td>\n",
              "      <td>149964.0</td>\n",
              "      <td>AAA Batteries (4-pack)</td>\n",
              "      <td>1.0</td>\n",
              "      <td>2.99</td>\n",
              "      <td>75 Jackson St, Dallas, TX 75001</td>\n",
              "    </tr>\n",
              "    <tr>\n",
              "      <th>4</th>\n",
              "      <td>2019-01-01 06:03:00</td>\n",
              "      <td>149350.0</td>\n",
              "      <td>USB-C Charging Cable</td>\n",
              "      <td>2.0</td>\n",
              "      <td>11.95</td>\n",
              "      <td>943 2nd St, Atlanta, GA 30301</td>\n",
              "    </tr>\n",
              "    <tr>\n",
              "      <th>...</th>\n",
              "      <td>...</td>\n",
              "      <td>...</td>\n",
              "      <td>...</td>\n",
              "      <td>...</td>\n",
              "      <td>...</td>\n",
              "      <td>...</td>\n",
              "    </tr>\n",
              "    <tr>\n",
              "      <th>124653</th>\n",
              "      <td>2019-09-19 20:36:00</td>\n",
              "      <td>254686.0</td>\n",
              "      <td>27in FHD Monitor</td>\n",
              "      <td>1.0</td>\n",
              "      <td>149.99</td>\n",
              "      <td>285 Elm St, New York City, NY 10001</td>\n",
              "    </tr>\n",
              "    <tr>\n",
              "      <th>124654</th>\n",
              "      <td>2019-09-19 20:36:00</td>\n",
              "      <td>254686.0</td>\n",
              "      <td>Lightning Charging Cable</td>\n",
              "      <td>1.0</td>\n",
              "      <td>14.95</td>\n",
              "      <td>285 Elm St, New York City, NY 10001</td>\n",
              "    </tr>\n",
              "    <tr>\n",
              "      <th>124655</th>\n",
              "      <td>2019-09-19 20:42:00</td>\n",
              "      <td>251793.0</td>\n",
              "      <td>AA Batteries (4-pack)</td>\n",
              "      <td>1.0</td>\n",
              "      <td>3.84</td>\n",
              "      <td>507 Lakeview St, Seattle, WA 98101</td>\n",
              "    </tr>\n",
              "    <tr>\n",
              "      <th>124656</th>\n",
              "      <td>2019-09-19 20:43:00</td>\n",
              "      <td>249048.0</td>\n",
              "      <td>Wired Headphones</td>\n",
              "      <td>1.0</td>\n",
              "      <td>11.99</td>\n",
              "      <td>725 River St, New York City, NY 10001</td>\n",
              "    </tr>\n",
              "    <tr>\n",
              "      <th>124657</th>\n",
              "      <td>2019-09-19 20:50:00</td>\n",
              "      <td>252671.0</td>\n",
              "      <td>USB-C Charging Cable</td>\n",
              "      <td>1.0</td>\n",
              "      <td>11.95</td>\n",
              "      <td>666 Highland St, Seattle, WA 98101</td>\n",
              "    </tr>\n",
              "  </tbody>\n",
              "</table>\n",
              "<p>124658 rows × 6 columns</p>\n",
              "</div>"
            ],
            "text/plain": [
              "                Order_Date  ...                        Purchase Address\n",
              "0      2019-01-01 03:07:00  ...      9 Lake St, New York City, NY 10001\n",
              "1      2019-01-01 03:40:00  ...  760 Church St, San Francisco, CA 94016\n",
              "2      2019-01-01 04:56:00  ...     735 5th St, New York City, NY 10001\n",
              "3      2019-01-01 05:53:00  ...         75 Jackson St, Dallas, TX 75001\n",
              "4      2019-01-01 06:03:00  ...           943 2nd St, Atlanta, GA 30301\n",
              "...                    ...  ...                                     ...\n",
              "124653 2019-09-19 20:36:00  ...     285 Elm St, New York City, NY 10001\n",
              "124654 2019-09-19 20:36:00  ...     285 Elm St, New York City, NY 10001\n",
              "124655 2019-09-19 20:42:00  ...      507 Lakeview St, Seattle, WA 98101\n",
              "124656 2019-09-19 20:43:00  ...   725 River St, New York City, NY 10001\n",
              "124657 2019-09-19 20:50:00  ...      666 Highland St, Seattle, WA 98101\n",
              "\n",
              "[124658 rows x 6 columns]"
            ]
          },
          "metadata": {},
          "execution_count": 92
        }
      ]
    },
    {
      "cell_type": "code",
      "metadata": {
        "colab": {
          "base_uri": "https://localhost:8080/"
        },
        "id": "acriObAmtgk3",
        "outputId": "79433252-b5aa-43fe-d316-a3ee8a66abd5"
      },
      "source": [
        "df.groupby(by='Product')['Quantity Ordered'].sum().nlargest(5)"
      ],
      "execution_count": 96,
      "outputs": [
        {
          "output_type": "execute_result",
          "data": {
            "text/plain": [
              "Product\n",
              "AAA Batteries (4-pack)      20780.0\n",
              "AA Batteries (4-pack)       18497.0\n",
              "USB-C Charging Cable        15954.0\n",
              "Lightning Charging Cable    15572.0\n",
              "Wired Headphones            13761.0\n",
              "Name: Quantity Ordered, dtype: float64"
            ]
          },
          "metadata": {},
          "execution_count": 96
        }
      ]
    }
  ]
}